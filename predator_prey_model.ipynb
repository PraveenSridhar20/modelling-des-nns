{
  "nbformat": 4,
  "nbformat_minor": 0,
  "metadata": {
    "colab": {
      "name": "predator_prey_model.ipynb",
      "provenance": [],
      "collapsed_sections": [
        "an6vjF5iTJFH"
      ]
    },
    "kernelspec": {
      "name": "python3",
      "display_name": "Python 3"
    },
    "language_info": {
      "name": "python"
    },
    "accelerator": "GPU"
  },
  "cells": [
    {
      "cell_type": "markdown",
      "metadata": {
        "id": "gBQpBzxKMFT4"
      },
      "source": [
        "# Predator Prey model\n",
        "\n",
        "\n",
        "The predator prey model is a system of coupled differential equations governing how the populations of 2 species (predator and prey) vary with time. The differential equations are given by: <br><br>\n",
        "\n",
        "$\\dfrac{dx}{dt}= a.x - b.x.y$<br><br>\n",
        "$\\dfrac{dy}{dt}= -c.y+ d.x.y$<br><br>\n",
        "\n",
        "Where:<br>\n",
        "$x$ = prey population<br>\n",
        "$y$ = predator population<br>\n",
        "$t$ = time <br>\n",
        "$a$ = growth rate of prey in absence of predators <br>\n",
        "$b$ = death rate of prey due to predators <br> \n",
        "$c$ = death rate of predators in absence of prey <br> \n",
        "$d$ = growth rate of predators by consuming prey <br><br>\n",
        "\n",
        "Note that $a$,$b$,$c$,$d$ are all positive constants\n",
        "\n",
        "\n",
        "We are also provided the initial predator and prey population as follows: <br>\n",
        "$pdi$ = initial predator population<br>\n",
        "$pyi$ = initial prey population<br>\n",
        "\n",
        "The solution to this differential equation is not separable and cannot be directly expressed in terms of $t$:<br><br>\n",
        "\n",
        "$a.\\ln{y} - b.y + c.\\ln{x} - d.x = a.\\ln{pdi} - b.{pdi} + c.\\ln{pyi} - d.{pyi}$<br><br>\n",
        "\n",
        "We are generating data by providing ranges of values to sample the variables from. The generating function works by generating a specified number of samples for a given value of $a$, $b$, $c$, $d$, $pyi$ and $pdi$. Once these points have been generated, they are passed to an ODE solver (including time) to generate the predator and the prey population. "
      ]
    },
    {
      "cell_type": "code",
      "metadata": {
        "colab": {
          "base_uri": "https://localhost:8080/"
        },
        "id": "y8pY-MyL28a1",
        "outputId": "95abaea7-22ae-4804-e803-538a7ed2fdf9"
      },
      "source": [
        "from google.colab import drive\n",
        "drive.flush_and_unmount()\n",
        "drive.mount('/content/drive')"
      ],
      "execution_count": null,
      "outputs": [
        {
          "output_type": "stream",
          "text": [
            "Drive not mounted, so nothing to flush and unmount.\n",
            "Mounted at /content/drive\n"
          ],
          "name": "stdout"
        }
      ]
    },
    {
      "cell_type": "code",
      "metadata": {
        "id": "lMaV_IfkLbKe"
      },
      "source": [
        "import numpy as np \n",
        "import tensorflow as tf\n",
        "from sklearn import metrics\n",
        "import matplotlib.pyplot as plt\n",
        "import tensorflow.keras.backend as k \n",
        "import pylab as p\n",
        "from scipy import integrate\n",
        "import pandas as pd\n",
        "from sklearn.preprocessing import MinMaxScaler\n",
        "from sklearn.preprocessing import StandardScaler"
      ],
      "execution_count": null,
      "outputs": []
    },
    {
      "cell_type": "code",
      "metadata": {
        "id": "f7Z3yZiuOfrj"
      },
      "source": [
        "def dX_dt(X,t,a,b,c,d):\n",
        "    return np.array([a*X[0] - b*X[0]*X[1], -c*X[1] + d*X[0]*X[1]])"
      ],
      "execution_count": null,
      "outputs": []
    },
    {
      "cell_type": "code",
      "metadata": {
        "id": "yL0Tdo12XZku"
      },
      "source": [
        "\"\"\"\n",
        "This function is used to generate data for the predator prey model \n",
        "The default values specified for the ranges have been chosen such that there won't be a exponential growth in the prey population which can skew results of mse \n",
        "min_val and max_val are used to specify ranges for each variable \n",
        "mode is used to specify whether linspace or np.random.uniform must be used to sample the data points in the range (time is always sampled with linspace to pass to the DE solver)\n",
        "const_val is used to specify if all data points generated for that value must  be constant (it takes min_val as the constant value)\n",
        "num_time_samples specifies how many data points must be drawn per system to be passed to the ODE solver \n",
        "num_systems specifies how many different predator prey systems (different growth rate, death rate, initial conditions, etc) must be drawn \n",
        "The total number of training examples will be num_time_samples*num_systems\n",
        "\n",
        "Note: There are some systems for which the ODE solver ends up buggy and doesn't give appropriate results \n",
        "The data point corresponding to these systems is regenerated (np.random.uniform) in order to make sure that the results are successful \n",
        "However, this does incur an overhead which is not insignificant (about 10% worst case)\n",
        "It was attempted to tweak the ranges to avoid this issue, but it didn't solve the problem as there were always some critical cases where the solver failed \n",
        "So this is the only working approach at present and it takes about 4 mins to generate all the data\n",
        "\"\"\"\n",
        "\n",
        "def genData(min_a=0.05,max_a=2,min_b=0.05,max_b=2,min_c=0.05,max_c=2,min_d=0.05,max_d=2,min_t=0.01,max_t=50,min_pyi=1,max_pyi=10,min_pdi=1,max_pdi=10,mode='random', const_a=False, const_b=False, const_c=False,const_d=False, const_pyi=False, const_pdi=False, const_t=False, num_time_samples=200,num_systems=10000):\n",
        "  global count \n",
        "  X=[]\n",
        "  predator=[]\n",
        "  prey=[]\n",
        "\n",
        "  if (mode=='random'):\n",
        "    if const_a:\n",
        "      a=np.repeat(min_a,num_systems)\n",
        "    else: \n",
        "      a=np.random.uniform(min_a,max_a,size=num_systems)\n",
        "    if const_b:\n",
        "      b=np.repeat(min_b,num_systems)\n",
        "    else: \n",
        "      b=np.random.uniform(min_b,max_b,size=num_systems)\n",
        "    if const_c:\n",
        "      c=np.repeat(min_c,num_systems)\n",
        "    else: \n",
        "      c=np.random.uniform(min_c,max_c,size=num_systems)\n",
        "    if const_d:\n",
        "      d=np.repeat(min_d,num_systems)\n",
        "    else: \n",
        "      d=np.random.uniform(min_d,max_d,size=num_systems)\n",
        "    if const_pdi:\n",
        "      pdi=np.repeat(min_pdi,num_systems)\n",
        "    else: \n",
        "      pdi=np.random.uniform(min_pdi,max_pdi,size=num_systems)\n",
        "    if const_pyi:\n",
        "      pyi=np.repeat(min_pyi,num_systems)\n",
        "    else: \n",
        "      pyi=np.random.uniform(min_pyi,max_pyi,size=num_systems)\n",
        "    \n",
        "    for i in range(num_systems):\n",
        "      if const_t: \n",
        "        t=np.repeat(min_t,num_time_samples)\n",
        "      else: \n",
        "        t=np.linspace(min_t,max_t,num_time_samples)\n",
        "\n",
        "      X0=np.array ([pyi[i],pdi[i]])\n",
        "      X_temp,infodict=integrate.odeint(dX_dt,X0,t,full_output=True, args=(a[i],b[i],c[i],d[i]))\n",
        "      prey_temp,predator_temp=X_temp.T\n",
        "      s1=np.sum(predator_temp<0.0)+np.sum(prey_temp<0.0)\n",
        "      while (infodict['message']!='Integration successful.' or s1>0):\n",
        "        print (i,'retrying') \n",
        "        a[i]=np.random.uniform(min_a,max_a,size=1)[0]\n",
        "        b[i]=np.random.uniform(min_b,max_b,size=1)[0]\n",
        "        c[i]=np.random.uniform(min_c,max_c,size=1)[0]\n",
        "        d[i]=np.random.uniform(min_d,max_d,size=1)[0]\n",
        "        pyi[i]=np.random.uniform(min_pyi,max_pyi,size=1)[0]\n",
        "        pdi[i]=np.random.uniform(min_pdi,max_pdi,size=1)[0]        \n",
        "        X_temp,infodict=integrate.odeint(dX_dt,X0,t,full_output=True, args=(a[i],b[i],c[i],d[i]))\n",
        "        prey_temp,predator_temp=X_temp.T\n",
        "        s1=np.sum(predator_temp<0.0)+np.sum(prey_temp<0.0)\n",
        "        count+=1\n",
        "      \n",
        "      ax=np.repeat(a[i],num_time_samples)\n",
        "      bx=np.repeat(b[i],num_time_samples)\n",
        "      cx=np.repeat(b[i],num_time_samples)\n",
        "      dx=np.repeat(d[i],num_time_samples)\n",
        "      pyix=np.repeat(pyi[i],num_time_samples)\n",
        "      pdix=np.repeat(pdi[i],num_time_samples)\n",
        "      \n",
        "      for j in range (num_time_samples):\n",
        "        x_temp=np.array([ax[j],bx[j],cx[j],dx[j],pyix[j],pdix[j],t[j]])\n",
        "        cos_x=np.cos(x_temp)\n",
        "        sin_x=np.sin(x_temp)\n",
        "        ln_x=np.log(x_temp)\n",
        "        tanh_x=np.tanh(x_temp)\n",
        "        x_inv=1/x_temp\n",
        "        sqrt_x=np.sqrt(x_temp)\n",
        "        e_minusx=np.exp(-x_temp)\n",
        "        x_app=np.concatenate((x_temp,cos_x,sin_x,ln_x,tanh_x,x_inv,sqrt_x,e_minusx),axis=0)\n",
        "\n",
        "        X.append(x_app)\n",
        "        predator.append(predator_temp[j])\n",
        "        prey.append(prey_temp[j])\n",
        "\n",
        "\n",
        "  else: \n",
        "    if const_a:\n",
        "      a=np.repeat(min_a,num_systems)\n",
        "    else: \n",
        "      a=np.linspace(min_a,max_a,num=num_systems)\n",
        "    if const_b:\n",
        "      b=np.repeat(min_b,num_systems)\n",
        "    else: \n",
        "      b=np.linspace(min_b,max_b,num=num_systems)\n",
        "    if const_c:\n",
        "      c=np.repeat(min_c,num_systems)\n",
        "    else: \n",
        "      c=np.linspace(min_c,max_c,num=num_systems)\n",
        "    if const_d:\n",
        "      d=np.repeat(min_d,num_systems)\n",
        "    else: \n",
        "      d=np.linspace(min_d,max_d,num=num_systems)\n",
        "    if const_pdi:\n",
        "      pdi=np.repeat(min_pdi,num_systems)\n",
        "    else: \n",
        "      pdi=np.linspace(min_pdi,max_pdi,num=num_systems)\n",
        "    if const_pyi:\n",
        "      pyi=np.repeat(min_pyi,num_systems)\n",
        "    else: \n",
        "      pyi=np.linspace(min_pyi,max_pyi,num=num_systems)\n",
        "    \n",
        "    for i in range(num_systems):\n",
        "      if const_t: \n",
        "        t=np.repeat(min_t,num_time_samples)\n",
        "      else: \n",
        "        t=np.linspace(min_t,max_t,num_time_samples)\n",
        "\n",
        "      X0=np.array ([pyi[i],pdi[i]])\n",
        "      X_temp,infodict=integrate.odeint(dX_dt,X0,t,full_output=True, args=(a[i],b[i],c[i],d[i]))\n",
        "      while (infodict['message']!='Integration successful.'):\n",
        "        a[i]=np.random.uniform(min_a,max_a,size=1)[0]\n",
        "        b[i]=np.random.uniform(min_b,max_b,size=1)[0]\n",
        "        c[i]=np.random.uniform(min_c,max_c,size=1)[0]\n",
        "        d[i]=np.random.uniform(min_d,max_d,size=1)[0]\n",
        "        pyi[i]=np.random.uniform(min_pyi,max_pyi,size=1)[0]\n",
        "        pdi[i]=np.random.uniform(min_pdi,max_pdi,size=1)[0]        \n",
        "        X_temp,infodict=integrate.odeint(dX_dt,X0,t,full_output=True, args=(a[i],b[i],c[i],d[i]))\n",
        "\n",
        "      prey_temp,predator_temp=X_temp.T\n",
        "      ax=np.repeat(a[i],num_time_samples)\n",
        "      bx=np.repeat(b[i],num_time_samples)\n",
        "      cx=np.repeat(b[i],num_time_samples)\n",
        "      dx=np.repeat(d[i],num_time_samples)\n",
        "      pyix=np.repeat(pyi[i],num_time_samples)\n",
        "      pdix=np.repeat(pdi[i],num_time_samples)\n",
        "\n",
        "      for j in range (num_time_samples):\n",
        "        x_temp=np.array([ax[j],bx[j],cx[j],dx[j],pyix[j],pdix[j],t[j]])\n",
        "        cos_x=np.cos(x_temp)\n",
        "        sin_x=np.sin(x_temp)\n",
        "        ln_x=np.log(x_temp)\n",
        "        tanh_x=np.tanh(x_temp)\n",
        "        x_inv=1/x_temp\n",
        "        sqrt_x=np.sqrt(x_temp)\n",
        "        e_minusx=np.exp(-x_temp)\n",
        "        x_app=np.concatenate((x_temp,cos_x,sin_x,ln_x,tanh_x,x_inv,sqrt_x,e_minusx),axis=0)\n",
        "\n",
        "        X.append(x_app)\n",
        "        predator.append(predator_temp[j])\n",
        "        prey.append(prey_temp[j])\n",
        "\n",
        "      \n",
        "  return np.array(X), np.array(predator),np.array(prey)"
      ],
      "execution_count": null,
      "outputs": []
    },
    {
      "cell_type": "markdown",
      "metadata": {
        "id": "gN-6j2qJTUNo"
      },
      "source": [
        "#Training and test data loading and preprocessing"
      ]
    },
    {
      "cell_type": "markdown",
      "metadata": {
        "id": "twKmxMzRuGVV"
      },
      "source": [
        "Data is generated using the genData function and is stored in a csv file before hand. This is because generating the data takes up a lot of memory and time, because several 1000 differential equations are solved every single time by the data generator."
      ]
    },
    {
      "cell_type": "code",
      "metadata": {
        "id": "DtpMeJD_JmUx"
      },
      "source": [
        "X,predator,prey=genData()"
      ],
      "execution_count": null,
      "outputs": []
    },
    {
      "cell_type": "code",
      "metadata": {
        "colab": {
          "base_uri": "https://localhost:8080/"
        },
        "id": "9aC5eRxk2p1l",
        "outputId": "b139955a-db5e-4a99-e073-88ccf2cbcf50"
      },
      "source": [
        "df_x=pd.read_csv('drive/My Drive/predator_prey/input1.csv',header=0,index_col=0)\n",
        "df_pred=pd.read_csv('drive/My Drive/predator_prey/predator1.csv',header=0,index_col=0)\n",
        "df_prey=pd.read_csv('drive/My Drive/predator_prey/prey1.csv',header=0,index_col=0)"
      ],
      "execution_count": null,
      "outputs": [
        {
          "output_type": "stream",
          "text": [
            "/usr/local/lib/python3.7/dist-packages/numpy/lib/arraysetops.py:580: FutureWarning: elementwise comparison failed; returning scalar instead, but in the future will perform elementwise comparison\n",
            "  mask |= (ar1 == a)\n"
          ],
          "name": "stderr"
        }
      ]
    },
    {
      "cell_type": "code",
      "metadata": {
        "colab": {
          "base_uri": "https://localhost:8080/"
        },
        "id": "zAhLpkcZ3SOc",
        "outputId": "5b933865-4c80-499c-9396-efa9de02b623"
      },
      "source": [
        "print (df_x.head())\n",
        "print (df_pred.head())\n",
        "print (df_prey.head())"
      ],
      "execution_count": null,
      "outputs": [
        {
          "output_type": "stream",
          "text": [
            "          0         1         2  ...        53       54        55\n",
            "0  1.426986  1.339166  1.339166  ...  0.234928  0.00392  0.990050\n",
            "1  1.426986  1.339166  1.339166  ...  0.234928  0.00392  0.770122\n",
            "2  1.426986  1.339166  1.339166  ...  0.234928  0.00392  0.599049\n",
            "3  1.426986  1.339166  1.339166  ...  0.234928  0.00392  0.465977\n",
            "4  1.426986  1.339166  1.339166  ...  0.234928  0.00392  0.362466\n",
            "\n",
            "[5 rows x 56 columns]\n",
            "          0\n",
            "0  5.541768\n",
            "1  5.584268\n",
            "2  5.176612\n",
            "3  4.714922\n",
            "4  4.276795\n",
            "          0\n",
            "0  1.448477\n",
            "1  0.311183\n",
            "2  0.072581\n",
            "3  0.019679\n",
            "4  0.006212\n"
          ],
          "name": "stdout"
        }
      ]
    },
    {
      "cell_type": "code",
      "metadata": {
        "colab": {
          "base_uri": "https://localhost:8080/"
        },
        "id": "ag9uVkcx31aF",
        "outputId": "76ade17f-3552-485f-e3be-867f31d8b854"
      },
      "source": [
        "X=df_x.to_numpy()\n",
        "pred=df_pred.to_numpy()\n",
        "prey=df_prey.to_numpy()\n",
        "print (X.shape)\n",
        "print (pred.shape)\n",
        "print (prey.shape)\n",
        "print(X)\n"
      ],
      "execution_count": null,
      "outputs": [
        {
          "output_type": "stream",
          "text": [
            "(2000000, 56)\n",
            "(2000000, 1)\n",
            "(2000000, 1)\n",
            "[[1.42698562e+00 1.33916618e+00 1.33916618e+00 ... 2.34927877e-01\n",
            "  3.91958931e-03 9.90049834e-01]\n",
            " [1.42698562e+00 1.33916618e+00 1.33916618e+00 ... 2.34927877e-01\n",
            "  3.91958931e-03 7.70122235e-01]\n",
            " [1.42698562e+00 1.33916618e+00 1.33916618e+00 ... 2.34927877e-01\n",
            "  3.91958931e-03 5.99048893e-01]\n",
            " ...\n",
            " [2.56432526e-01 3.71735554e-01 3.71735554e-01 ... 1.57831682e-03\n",
            "  4.11502813e-03 3.18765044e-22]\n",
            " [2.56432526e-01 3.71735554e-01 3.71735554e-01 ... 1.57831682e-03\n",
            "  4.11502813e-03 2.47955244e-22]\n",
            " [2.56432526e-01 3.71735554e-01 3.71735554e-01 ... 1.57831682e-03\n",
            "  4.11502813e-03 1.92874985e-22]]\n"
          ],
          "name": "stdout"
        }
      ]
    },
    {
      "cell_type": "markdown",
      "metadata": {
        "id": "ZhebwOcJumRO"
      },
      "source": [
        "We add in all the functions associated with the data"
      ]
    },
    {
      "cell_type": "code",
      "metadata": {
        "colab": {
          "base_uri": "https://localhost:8080/"
        },
        "id": "QRaUqLpf6eNJ",
        "outputId": "42e1add9-a3f8-4b18-b9a3-8e85c8d759e3"
      },
      "source": [
        "cos_pred=np.cos(pred)\n",
        "sin_pred=np.sin(pred)\n",
        "ln_pred=np.log(pred)\n",
        "tanh_pred=np.tanh(pred)\n",
        "pred_inv=1/pred\n",
        "sqrt_pred=np.sqrt(pred)\n",
        "e_minuspred=np.exp(-pred)\n",
        "\n",
        "fn_pred=np.concatenate((pred,cos_pred,sin_pred,ln_pred,tanh_pred,pred_inv,sqrt_pred,e_minuspred),axis=1)\n",
        "print(fn_pred.shape)\n",
        "X_prey_train=np.concatenate((X,fn_pred),axis=1)\n",
        "X_prey_train.shape"
      ],
      "execution_count": null,
      "outputs": [
        {
          "output_type": "stream",
          "text": [
            "(2000000, 8)\n"
          ],
          "name": "stdout"
        },
        {
          "output_type": "execute_result",
          "data": {
            "text/plain": [
              "(2000000, 64)"
            ]
          },
          "metadata": {
            "tags": []
          },
          "execution_count": 8
        }
      ]
    },
    {
      "cell_type": "code",
      "metadata": {
        "colab": {
          "base_uri": "https://localhost:8080/"
        },
        "id": "TOiywvOo3PGk",
        "outputId": "16458b95-4107-4212-c57b-6b664ffa20d6"
      },
      "source": [
        "cos_prey=np.cos(prey)\n",
        "sin_prey=np.sin(prey)\n",
        "ln_prey=np.log(prey)\n",
        "tanh_prey=np.tanh(prey)\n",
        "prey_inv=1/prey\n",
        "sqrt_prey=np.sqrt(prey)\n",
        "e_minusprey=np.exp(-prey)\n",
        "\n",
        "fn_prey=np.concatenate((prey,cos_prey,sin_prey,ln_prey,tanh_prey,prey_inv,sqrt_prey,e_minusprey),axis=1)\n",
        "print(fn_prey.shape)\n",
        "X_pred_train=np.concatenate((X,fn_prey),axis=1)\n",
        "X_pred_train.shape"
      ],
      "execution_count": null,
      "outputs": [
        {
          "output_type": "stream",
          "text": [
            "(2000000, 8)\n"
          ],
          "name": "stdout"
        },
        {
          "output_type": "execute_result",
          "data": {
            "text/plain": [
              "(2000000, 64)"
            ]
          },
          "metadata": {
            "tags": []
          },
          "execution_count": 9
        }
      ]
    },
    {
      "cell_type": "markdown",
      "metadata": {
        "id": "zolAg99bupV0"
      },
      "source": [
        "This is test data"
      ]
    },
    {
      "cell_type": "code",
      "metadata": {
        "id": "0h26_VyyI7RB"
      },
      "source": [
        "Xtest,predtest,preytest=genData(min_a=1.5,min_b=0.5,min_c=0.75,min_d=0.1,min_pdi=5,min_pyi=5,const_a=True,const_b=True,const_c=True,const_d=True,const_pyi=True,const_pdi=True,num_systems=1)"
      ],
      "execution_count": null,
      "outputs": []
    },
    {
      "cell_type": "code",
      "metadata": {
        "colab": {
          "base_uri": "https://localhost:8080/"
        },
        "id": "vXkMhQoFPPRT",
        "outputId": "3d225979-7bf5-4da8-b26a-2435cc1b6644"
      },
      "source": [
        "preytest=preytest.reshape((len(preytest),1))\n",
        "cos_prey=np.cos(preytest)\n",
        "sin_prey=np.sin(preytest)\n",
        "ln_prey=np.log(preytest)\n",
        "tanh_prey=np.tanh(preytest)\n",
        "prey_inv=1/preytest\n",
        "sqrt_prey=np.sqrt(preytest)\n",
        "e_minusprey=np.exp(-preytest)\n",
        "\n",
        "fn_prey=np.concatenate((preytest,cos_prey,sin_prey,ln_prey,tanh_prey,prey_inv,sqrt_prey,e_minusprey),axis=1)\n",
        "print (fn_prey.shape)\n",
        "X_pred_test=np.concatenate((Xtest,fn_prey),axis=1)\n",
        "X_pred_test.shape"
      ],
      "execution_count": null,
      "outputs": [
        {
          "output_type": "stream",
          "text": [
            "(200, 8)\n"
          ],
          "name": "stdout"
        },
        {
          "output_type": "execute_result",
          "data": {
            "text/plain": [
              "(200, 64)"
            ]
          },
          "metadata": {
            "tags": []
          },
          "execution_count": 71
        }
      ]
    },
    {
      "cell_type": "code",
      "metadata": {
        "colab": {
          "base_uri": "https://localhost:8080/"
        },
        "id": "LrShjDAKUn2x",
        "outputId": "0dcfb477-9a41-43ac-c9e3-f4f676216cfc"
      },
      "source": [
        "predtest=predtest.reshape((len(predtest),1))\n",
        "cos_pred=np.cos(predtest)\n",
        "sin_pred=np.sin(predtest)\n",
        "ln_pred=np.log(predtest)\n",
        "tanh_pred=np.tanh(predtest)\n",
        "pred_inv=1/predtest\n",
        "sqrt_pred=np.sqrt(predtest)\n",
        "e_minuspred=np.exp(-predtest)\n",
        "\n",
        "fn_pred=np.concatenate((predtest,cos_pred,sin_pred,ln_pred,tanh_pred,pred_inv,sqrt_pred,e_minuspred),axis=1)\n",
        "print (fn_pred.shape)\n",
        "X_prey_test=np.concatenate((Xtest,fn_pred),axis=1)\n",
        "X_prey_test.shape"
      ],
      "execution_count": null,
      "outputs": [
        {
          "output_type": "stream",
          "text": [
            "(200, 8)\n"
          ],
          "name": "stdout"
        },
        {
          "output_type": "execute_result",
          "data": {
            "text/plain": [
              "(200, 64)"
            ]
          },
          "metadata": {
            "tags": []
          },
          "execution_count": 72
        }
      ]
    },
    {
      "cell_type": "markdown",
      "metadata": {
        "id": "HZHc5TkATj09"
      },
      "source": [
        "#LSTM traing and test data pre processing"
      ]
    },
    {
      "cell_type": "markdown",
      "metadata": {
        "id": "B4xnNqqmvLl4"
      },
      "source": [
        "We scale and reshape both the training and the test data here in order to feed into the LSTM model and train the model"
      ]
    },
    {
      "cell_type": "code",
      "metadata": {
        "colab": {
          "base_uri": "https://localhost:8080/"
        },
        "id": "RFuE8fZwrv6W",
        "outputId": "a3c7d40f-3155-4ead-de58-7151a0907859"
      },
      "source": [
        "scaler=MinMaxScaler()\n",
        "\n",
        "X_pred_train= scaler.fit_transform(X_pred_train)\n",
        "X_prey_train=scaler.fit_transform(X_prey_train)\n",
        "print (X_pred_train)\n",
        "print(X_pred_train.shape)\n",
        "pred=scaler.fit_transform(pred)\n",
        "prey=scaler.fit_transform(prey)"
      ],
      "execution_count": null,
      "outputs": [
        {
          "output_type": "stream",
          "text": [
            "[[7.06173777e-01 6.61164486e-01 6.61164486e-01 ... 3.23309690e-13\n",
            "  6.58684374e-02 2.34927877e-01]\n",
            " [7.06173777e-01 6.61164486e-01 6.61164486e-01 ... 1.51007093e-12\n",
            "  3.05301854e-02 7.32579597e-01]\n",
            " [7.06173777e-01 6.61164486e-01 6.61164486e-01 ... 6.47893552e-12\n",
            "  1.47445322e-02 9.29990794e-01]\n",
            " ...\n",
            " [1.05844037e-01 1.64982435e-01 1.64982435e-01 ... 3.95561179e-11\n",
            "  5.96779434e-03 9.88180201e-01]\n",
            " [1.05844037e-01 1.64982435e-01 1.64982435e-01 ... 3.70886085e-11\n",
            "  6.16311089e-03 9.87398833e-01]\n",
            " [1.05844037e-01 1.64982435e-01 1.64982435e-01 ... 3.47749416e-11\n",
            "  6.36482668e-03 9.86566134e-01]]\n",
            "(2000000, 64)\n"
          ],
          "name": "stdout"
        }
      ]
    },
    {
      "cell_type": "code",
      "metadata": {
        "colab": {
          "base_uri": "https://localhost:8080/"
        },
        "id": "h3C-jnxZ0V5m",
        "outputId": "1fff1f24-9bd3-47eb-892b-9b58fc190b75"
      },
      "source": [
        "Xpred_train=[]\n",
        "for i in range (10000):\n",
        "  Xpred_train.append(X_pred_train[200*i:200*(i+1),:])\n",
        "\n",
        "Xpred_train=np.array(Xpred_train)\n",
        "print (Xpred_train.shape)"
      ],
      "execution_count": null,
      "outputs": [
        {
          "output_type": "stream",
          "text": [
            "(10000, 200, 64)\n"
          ],
          "name": "stdout"
        }
      ]
    },
    {
      "cell_type": "code",
      "metadata": {
        "colab": {
          "base_uri": "https://localhost:8080/"
        },
        "id": "VpW37HBkcsmN",
        "outputId": "c64ef45b-35dc-4a01-fe71-ec624c50670c"
      },
      "source": [
        "Xprey_train=[]\n",
        "for i in range (10000):\n",
        "  Xprey_train.append(X_prey_train[200*i:200*(i+1),:])\n",
        "\n",
        "Xprey_train=np.array(Xprey_train)\n",
        "print (Xprey_train.shape)"
      ],
      "execution_count": null,
      "outputs": [
        {
          "output_type": "stream",
          "text": [
            "(10000, 200, 64)\n"
          ],
          "name": "stdout"
        }
      ]
    },
    {
      "cell_type": "code",
      "metadata": {
        "colab": {
          "base_uri": "https://localhost:8080/"
        },
        "id": "VK4FhdX9051q",
        "outputId": "b546a723-5e71-4ecf-fd7d-2e9acd2791f7"
      },
      "source": [
        "prey_train=[]\n",
        "for i in range (10000):\n",
        "  prey_train.append(prey[200*i:200*(i+1),:])\n",
        "\n",
        "prey_train=np.array(prey_train)\n",
        "print (prey_train.shape)"
      ],
      "execution_count": null,
      "outputs": [
        {
          "output_type": "stream",
          "text": [
            "(10000, 200, 1)\n"
          ],
          "name": "stdout"
        }
      ]
    },
    {
      "cell_type": "code",
      "metadata": {
        "colab": {
          "base_uri": "https://localhost:8080/"
        },
        "id": "-lMET64A0tcz",
        "outputId": "787cf7a4-da56-462a-d15b-58702108c5bd"
      },
      "source": [
        "pred_train=[]\n",
        "for i in range (10000):\n",
        "  pred_train.append(pred[200*i:200*(i+1),:])\n",
        "\n",
        "pred_train=np.array(pred_train)\n",
        "print (pred_train.shape)"
      ],
      "execution_count": null,
      "outputs": [
        {
          "output_type": "stream",
          "text": [
            "(10000, 200, 1)\n"
          ],
          "name": "stdout"
        }
      ]
    },
    {
      "cell_type": "code",
      "metadata": {
        "id": "36F4tdx55-BP",
        "colab": {
          "base_uri": "https://localhost:8080/"
        },
        "outputId": "1523f977-3e55-4c1b-e022-292ae5d42a35"
      },
      "source": [
        "X_pred_test=scaler.fit_transform(X_pred_test)\n",
        "X_prey_test=scaler.fit_transform(X_prey_test)\n",
        "predtest=predtest.reshape((len(predtest),1))\n",
        "preytest=preytest.reshape((len(preytest),1))\n",
        "print(predtest.shape)\n",
        "predtest=scaler.fit_transform(predtest)\n",
        "preytest=scaler.fit_transform(preytest)\n",
        "Xpred_test=X_pred_test.reshape((1,200,64))\n",
        "Xprey_test=X_prey_test.reshape((1,200,64))"
      ],
      "execution_count": null,
      "outputs": [
        {
          "output_type": "stream",
          "text": [
            "(200, 1)\n"
          ],
          "name": "stdout"
        }
      ]
    },
    {
      "cell_type": "code",
      "metadata": {
        "id": "P9Ig7oHr1Bto"
      },
      "source": [
        " model_pred=tf.keras.models.Sequential([\n",
        "    tf.keras.layers.Bidirectional(tf.keras.layers.LSTM(128,return_sequences=True,input_shape=(200,64),activation='tanh')),\n",
        "    tf.keras.layers.Bidirectional(tf.keras.layers.LSTM(32,return_sequences=True,activation='tanh')),\n",
        "    tf.keras.layers.TimeDistributed(tf.keras.layers.Dense(8,activation='tanh')),\n",
        "    tf.keras.layers.TimeDistributed(tf.keras.layers.Dense(1,activation='sigmoid'))\n",
        "])"
      ],
      "execution_count": null,
      "outputs": []
    },
    {
      "cell_type": "code",
      "metadata": {
        "id": "EzHcddq717YS",
        "colab": {
          "base_uri": "https://localhost:8080/"
        },
        "outputId": "e6d327d2-7aa0-4bf0-914d-c3598e229f70"
      },
      "source": [
        "model_pred.compile(optimizer=tf.keras.optimizers.Adam(learning_rate=0.0001),metrics=['mse'],loss='mean_squared_error')\n",
        "model_pred.fit(Xpred_train,pred_train,verbose=1,epochs=200,batch_size=4096,shuffle=True)"
      ],
      "execution_count": null,
      "outputs": [
        {
          "output_type": "stream",
          "text": [
            "Epoch 1/200\n",
            "3/3 [==============================] - 7s 389ms/step - loss: 3.1666e-05 - mse: 3.1666e-05\n",
            "Epoch 2/200\n",
            "3/3 [==============================] - 1s 426ms/step - loss: 2.8450e-05 - mse: 2.8450e-05\n",
            "Epoch 3/200\n",
            "3/3 [==============================] - 1s 402ms/step - loss: 2.2279e-05 - mse: 2.2279e-05\n",
            "Epoch 4/200\n",
            "3/3 [==============================] - 1s 414ms/step - loss: 2.0632e-05 - mse: 2.0632e-05\n",
            "Epoch 5/200\n",
            "3/3 [==============================] - 1s 425ms/step - loss: 1.4957e-05 - mse: 1.4957e-05\n",
            "Epoch 6/200\n",
            "3/3 [==============================] - 1s 402ms/step - loss: 1.3125e-05 - mse: 1.3125e-05\n",
            "Epoch 7/200\n",
            "3/3 [==============================] - 1s 419ms/step - loss: 9.4275e-06 - mse: 9.4275e-06\n",
            "Epoch 8/200\n",
            "3/3 [==============================] - 1s 399ms/step - loss: 9.2997e-06 - mse: 9.2997e-06\n",
            "Epoch 9/200\n",
            "3/3 [==============================] - 1s 389ms/step - loss: 8.0023e-06 - mse: 8.0023e-06\n",
            "Epoch 10/200\n",
            "3/3 [==============================] - 1s 420ms/step - loss: 7.3944e-06 - mse: 7.3944e-06\n",
            "Epoch 11/200\n",
            "3/3 [==============================] - 1s 406ms/step - loss: 7.2418e-06 - mse: 7.2418e-06\n",
            "Epoch 12/200\n",
            "3/3 [==============================] - 1s 391ms/step - loss: 6.9033e-06 - mse: 6.9033e-06\n",
            "Epoch 13/200\n",
            "3/3 [==============================] - 1s 425ms/step - loss: 6.6586e-06 - mse: 6.6586e-06\n",
            "Epoch 14/200\n",
            "3/3 [==============================] - 1s 397ms/step - loss: 6.1806e-06 - mse: 6.1806e-06\n",
            "Epoch 15/200\n",
            "3/3 [==============================] - 1s 397ms/step - loss: 6.1656e-06 - mse: 6.1656e-06\n",
            "Epoch 16/200\n",
            "3/3 [==============================] - 1s 416ms/step - loss: 6.0486e-06 - mse: 6.0486e-06\n",
            "Epoch 17/200\n",
            "3/3 [==============================] - 1s 423ms/step - loss: 6.0121e-06 - mse: 6.0121e-06\n",
            "Epoch 18/200\n",
            "3/3 [==============================] - 1s 404ms/step - loss: 5.8307e-06 - mse: 5.8307e-06\n",
            "Epoch 19/200\n",
            "3/3 [==============================] - 1s 403ms/step - loss: 5.8287e-06 - mse: 5.8287e-06\n",
            "Epoch 20/200\n",
            "3/3 [==============================] - 1s 409ms/step - loss: 5.7468e-06 - mse: 5.7468e-06\n",
            "Epoch 21/200\n",
            "3/3 [==============================] - 1s 397ms/step - loss: 5.6952e-06 - mse: 5.6952e-06\n",
            "Epoch 22/200\n",
            "3/3 [==============================] - 1s 390ms/step - loss: 5.6828e-06 - mse: 5.6828e-06\n",
            "Epoch 23/200\n",
            "3/3 [==============================] - 1s 432ms/step - loss: 5.6361e-06 - mse: 5.6361e-06\n",
            "Epoch 24/200\n",
            "3/3 [==============================] - 1s 388ms/step - loss: 5.6009e-06 - mse: 5.6009e-06\n",
            "Epoch 25/200\n",
            "3/3 [==============================] - 1s 397ms/step - loss: 5.5966e-06 - mse: 5.5966e-06\n",
            "Epoch 26/200\n",
            "3/3 [==============================] - 1s 415ms/step - loss: 5.5618e-06 - mse: 5.5618e-06\n",
            "Epoch 27/200\n",
            "3/3 [==============================] - 1s 423ms/step - loss: 5.5442e-06 - mse: 5.5442e-06\n",
            "Epoch 28/200\n",
            "3/3 [==============================] - 1s 396ms/step - loss: 5.5192e-06 - mse: 5.5192e-06\n",
            "Epoch 29/200\n",
            "3/3 [==============================] - 1s 392ms/step - loss: 5.5161e-06 - mse: 5.5161e-06\n",
            "Epoch 30/200\n",
            "3/3 [==============================] - 1s 394ms/step - loss: 5.5067e-06 - mse: 5.5067e-06\n",
            "Epoch 31/200\n",
            "3/3 [==============================] - 1s 386ms/step - loss: 5.4939e-06 - mse: 5.4939e-06\n",
            "Epoch 32/200\n",
            "3/3 [==============================] - 1s 424ms/step - loss: 5.5092e-06 - mse: 5.5092e-06\n",
            "Epoch 33/200\n",
            "3/3 [==============================] - 1s 421ms/step - loss: 5.4891e-06 - mse: 5.4891e-06\n",
            "Epoch 34/200\n",
            "3/3 [==============================] - 1s 415ms/step - loss: 5.4475e-06 - mse: 5.4475e-06\n",
            "Epoch 35/200\n",
            "3/3 [==============================] - 1s 405ms/step - loss: 5.4557e-06 - mse: 5.4557e-06\n",
            "Epoch 36/200\n",
            "3/3 [==============================] - 1s 397ms/step - loss: 5.4189e-06 - mse: 5.4189e-06\n",
            "Epoch 37/200\n",
            "3/3 [==============================] - 1s 414ms/step - loss: 5.4099e-06 - mse: 5.4099e-06\n",
            "Epoch 38/200\n",
            "3/3 [==============================] - 1s 394ms/step - loss: 5.4038e-06 - mse: 5.4038e-06\n",
            "Epoch 39/200\n",
            "3/3 [==============================] - 1s 426ms/step - loss: 5.4014e-06 - mse: 5.4014e-06\n",
            "Epoch 40/200\n",
            "3/3 [==============================] - 1s 399ms/step - loss: 5.4513e-06 - mse: 5.4513e-06\n",
            "Epoch 41/200\n",
            "3/3 [==============================] - 1s 426ms/step - loss: 5.4405e-06 - mse: 5.4405e-06\n",
            "Epoch 42/200\n",
            "3/3 [==============================] - 1s 408ms/step - loss: 5.3895e-06 - mse: 5.3895e-06\n",
            "Epoch 43/200\n",
            "3/3 [==============================] - 1s 404ms/step - loss: 5.3748e-06 - mse: 5.3748e-06\n",
            "Epoch 44/200\n",
            "3/3 [==============================] - 1s 397ms/step - loss: 5.3564e-06 - mse: 5.3564e-06\n",
            "Epoch 45/200\n",
            "3/3 [==============================] - 1s 381ms/step - loss: 5.4010e-06 - mse: 5.4010e-06\n",
            "Epoch 46/200\n",
            "3/3 [==============================] - 1s 428ms/step - loss: 5.4129e-06 - mse: 5.4129e-06\n",
            "Epoch 47/200\n",
            "3/3 [==============================] - 1s 404ms/step - loss: 5.4080e-06 - mse: 5.4080e-06\n",
            "Epoch 48/200\n",
            "3/3 [==============================] - 1s 400ms/step - loss: 5.4414e-06 - mse: 5.4414e-06\n",
            "Epoch 49/200\n",
            "3/3 [==============================] - 1s 392ms/step - loss: 5.4049e-06 - mse: 5.4049e-06\n",
            "Epoch 50/200\n",
            "3/3 [==============================] - 1s 413ms/step - loss: 5.3848e-06 - mse: 5.3848e-06\n",
            "Epoch 51/200\n",
            "3/3 [==============================] - 1s 395ms/step - loss: 5.3822e-06 - mse: 5.3822e-06\n",
            "Epoch 52/200\n",
            "3/3 [==============================] - 1s 418ms/step - loss: 5.3490e-06 - mse: 5.3490e-06\n",
            "Epoch 53/200\n",
            "3/3 [==============================] - 1s 422ms/step - loss: 5.3457e-06 - mse: 5.3457e-06\n",
            "Epoch 54/200\n",
            "3/3 [==============================] - 1s 401ms/step - loss: 5.3039e-06 - mse: 5.3039e-06\n",
            "Epoch 55/200\n",
            "3/3 [==============================] - 1s 426ms/step - loss: 5.3074e-06 - mse: 5.3074e-06\n",
            "Epoch 56/200\n",
            "3/3 [==============================] - 1s 423ms/step - loss: 5.3655e-06 - mse: 5.3655e-06\n",
            "Epoch 57/200\n",
            "3/3 [==============================] - 1s 388ms/step - loss: 5.3261e-06 - mse: 5.3261e-06\n",
            "Epoch 58/200\n",
            "3/3 [==============================] - 1s 397ms/step - loss: 5.2757e-06 - mse: 5.2757e-06\n",
            "Epoch 59/200\n",
            "3/3 [==============================] - 1s 417ms/step - loss: 5.2740e-06 - mse: 5.2740e-06\n",
            "Epoch 60/200\n",
            "3/3 [==============================] - 1s 395ms/step - loss: 5.2519e-06 - mse: 5.2519e-06\n",
            "Epoch 61/200\n",
            "3/3 [==============================] - 1s 399ms/step - loss: 5.2395e-06 - mse: 5.2395e-06\n",
            "Epoch 62/200\n",
            "3/3 [==============================] - 1s 401ms/step - loss: 5.1982e-06 - mse: 5.1982e-06\n",
            "Epoch 63/200\n",
            "3/3 [==============================] - 1s 398ms/step - loss: 5.2280e-06 - mse: 5.2280e-06\n",
            "Epoch 64/200\n",
            "3/3 [==============================] - 1s 425ms/step - loss: 5.2022e-06 - mse: 5.2022e-06\n",
            "Epoch 65/200\n",
            "3/3 [==============================] - 1s 411ms/step - loss: 5.2006e-06 - mse: 5.2006e-06\n",
            "Epoch 66/200\n",
            "3/3 [==============================] - 1s 388ms/step - loss: 5.1480e-06 - mse: 5.1480e-06\n",
            "Epoch 67/200\n",
            "3/3 [==============================] - 1s 399ms/step - loss: 5.1345e-06 - mse: 5.1345e-06\n",
            "Epoch 68/200\n",
            "3/3 [==============================] - 1s 398ms/step - loss: 5.1365e-06 - mse: 5.1365e-06\n",
            "Epoch 69/200\n",
            "3/3 [==============================] - 1s 402ms/step - loss: 5.1115e-06 - mse: 5.1115e-06\n",
            "Epoch 70/200\n",
            "3/3 [==============================] - 1s 428ms/step - loss: 5.1346e-06 - mse: 5.1346e-06\n",
            "Epoch 71/200\n",
            "3/3 [==============================] - 1s 403ms/step - loss: 5.1391e-06 - mse: 5.1391e-06\n",
            "Epoch 72/200\n",
            "3/3 [==============================] - 1s 409ms/step - loss: 5.1357e-06 - mse: 5.1357e-06\n",
            "Epoch 73/200\n",
            "3/3 [==============================] - 1s 388ms/step - loss: 5.1292e-06 - mse: 5.1292e-06\n",
            "Epoch 74/200\n",
            "3/3 [==============================] - 1s 424ms/step - loss: 5.1224e-06 - mse: 5.1224e-06\n",
            "Epoch 75/200\n",
            "3/3 [==============================] - 1s 405ms/step - loss: 5.1343e-06 - mse: 5.1343e-06\n",
            "Epoch 76/200\n",
            "3/3 [==============================] - 1s 409ms/step - loss: 5.1179e-06 - mse: 5.1179e-06\n",
            "Epoch 77/200\n",
            "3/3 [==============================] - 1s 408ms/step - loss: 5.0933e-06 - mse: 5.0933e-06\n",
            "Epoch 78/200\n",
            "3/3 [==============================] - 1s 397ms/step - loss: 5.0520e-06 - mse: 5.0520e-06\n",
            "Epoch 79/200\n",
            "3/3 [==============================] - 1s 400ms/step - loss: 5.0808e-06 - mse: 5.0808e-06\n",
            "Epoch 80/200\n",
            "3/3 [==============================] - 1s 374ms/step - loss: 5.0466e-06 - mse: 5.0466e-06\n",
            "Epoch 81/200\n",
            "3/3 [==============================] - 1s 404ms/step - loss: 5.0604e-06 - mse: 5.0604e-06\n",
            "Epoch 82/200\n",
            "3/3 [==============================] - 1s 405ms/step - loss: 5.0668e-06 - mse: 5.0668e-06\n",
            "Epoch 83/200\n",
            "3/3 [==============================] - 1s 411ms/step - loss: 5.0799e-06 - mse: 5.0799e-06\n",
            "Epoch 84/200\n",
            "3/3 [==============================] - 1s 397ms/step - loss: 5.0074e-06 - mse: 5.0074e-06\n",
            "Epoch 85/200\n",
            "3/3 [==============================] - 1s 398ms/step - loss: 5.0858e-06 - mse: 5.0858e-06\n",
            "Epoch 86/200\n",
            "3/3 [==============================] - 1s 423ms/step - loss: 5.0526e-06 - mse: 5.0526e-06\n",
            "Epoch 87/200\n",
            "3/3 [==============================] - 1s 386ms/step - loss: 5.0147e-06 - mse: 5.0147e-06\n",
            "Epoch 88/200\n",
            "3/3 [==============================] - 1s 408ms/step - loss: 5.0155e-06 - mse: 5.0155e-06\n",
            "Epoch 89/200\n",
            "3/3 [==============================] - 1s 402ms/step - loss: 5.0512e-06 - mse: 5.0512e-06\n",
            "Epoch 90/200\n",
            "3/3 [==============================] - 1s 425ms/step - loss: 5.0249e-06 - mse: 5.0249e-06\n",
            "Epoch 91/200\n",
            "3/3 [==============================] - 1s 417ms/step - loss: 5.0303e-06 - mse: 5.0303e-06\n",
            "Epoch 92/200\n",
            "3/3 [==============================] - 1s 424ms/step - loss: 5.2168e-06 - mse: 5.2168e-06\n",
            "Epoch 93/200\n",
            "3/3 [==============================] - 1s 409ms/step - loss: 5.0606e-06 - mse: 5.0606e-06\n",
            "Epoch 94/200\n",
            "3/3 [==============================] - 1s 401ms/step - loss: 5.0722e-06 - mse: 5.0722e-06\n",
            "Epoch 95/200\n",
            "3/3 [==============================] - 1s 405ms/step - loss: 5.0468e-06 - mse: 5.0468e-06\n",
            "Epoch 96/200\n",
            "3/3 [==============================] - 1s 403ms/step - loss: 5.0333e-06 - mse: 5.0333e-06\n",
            "Epoch 97/200\n",
            "3/3 [==============================] - 1s 393ms/step - loss: 5.0021e-06 - mse: 5.0021e-06\n",
            "Epoch 98/200\n",
            "3/3 [==============================] - 1s 424ms/step - loss: 4.9592e-06 - mse: 4.9592e-06\n",
            "Epoch 99/200\n",
            "3/3 [==============================] - 1s 424ms/step - loss: 4.9768e-06 - mse: 4.9768e-06\n",
            "Epoch 100/200\n",
            "3/3 [==============================] - 1s 431ms/step - loss: 5.0621e-06 - mse: 5.0621e-06\n",
            "Epoch 101/200\n",
            "3/3 [==============================] - 1s 386ms/step - loss: 5.2736e-06 - mse: 5.2736e-06\n",
            "Epoch 102/200\n",
            "3/3 [==============================] - 1s 400ms/step - loss: 5.0997e-06 - mse: 5.0997e-06\n",
            "Epoch 103/200\n",
            "3/3 [==============================] - 1s 392ms/step - loss: 5.0919e-06 - mse: 5.0919e-06\n",
            "Epoch 104/200\n",
            "3/3 [==============================] - 1s 404ms/step - loss: 5.0619e-06 - mse: 5.0619e-06\n",
            "Epoch 105/200\n",
            "3/3 [==============================] - 1s 427ms/step - loss: 5.0567e-06 - mse: 5.0567e-06\n",
            "Epoch 106/200\n",
            "3/3 [==============================] - 1s 393ms/step - loss: 5.2239e-06 - mse: 5.2239e-06\n",
            "Epoch 107/200\n",
            "3/3 [==============================] - 1s 397ms/step - loss: 5.1736e-06 - mse: 5.1736e-06\n",
            "Epoch 108/200\n",
            "3/3 [==============================] - 1s 418ms/step - loss: 5.1204e-06 - mse: 5.1204e-06\n",
            "Epoch 109/200\n",
            "3/3 [==============================] - 1s 409ms/step - loss: 5.0722e-06 - mse: 5.0722e-06\n",
            "Epoch 110/200\n",
            "3/3 [==============================] - 1s 414ms/step - loss: 4.9548e-06 - mse: 4.9548e-06\n",
            "Epoch 111/200\n",
            "3/3 [==============================] - 1s 424ms/step - loss: 4.8970e-06 - mse: 4.8970e-06\n",
            "Epoch 112/200\n",
            "3/3 [==============================] - 1s 405ms/step - loss: 4.9657e-06 - mse: 4.9657e-06\n",
            "Epoch 113/200\n",
            "3/3 [==============================] - 1s 404ms/step - loss: 5.1395e-06 - mse: 5.1395e-06\n",
            "Epoch 114/200\n",
            "3/3 [==============================] - 1s 408ms/step - loss: 4.9238e-06 - mse: 4.9238e-06\n",
            "Epoch 115/200\n",
            "3/3 [==============================] - 1s 402ms/step - loss: 4.8634e-06 - mse: 4.8634e-06\n",
            "Epoch 116/200\n",
            "3/3 [==============================] - 1s 393ms/step - loss: 5.0773e-06 - mse: 5.0773e-06\n",
            "Epoch 117/200\n",
            "3/3 [==============================] - 1s 423ms/step - loss: 4.8452e-06 - mse: 4.8452e-06\n",
            "Epoch 118/200\n",
            "3/3 [==============================] - 1s 396ms/step - loss: 4.8522e-06 - mse: 4.8522e-06\n",
            "Epoch 119/200\n",
            "3/3 [==============================] - 1s 411ms/step - loss: 4.8854e-06 - mse: 4.8854e-06\n",
            "Epoch 120/200\n",
            "3/3 [==============================] - 1s 387ms/step - loss: 4.8911e-06 - mse: 4.8911e-06\n",
            "Epoch 121/200\n",
            "3/3 [==============================] - 1s 395ms/step - loss: 4.9684e-06 - mse: 4.9684e-06\n",
            "Epoch 122/200\n",
            "3/3 [==============================] - 1s 394ms/step - loss: 4.8785e-06 - mse: 4.8785e-06\n",
            "Epoch 123/200\n",
            "3/3 [==============================] - 1s 404ms/step - loss: 4.7851e-06 - mse: 4.7851e-06\n",
            "Epoch 124/200\n",
            "3/3 [==============================] - 1s 408ms/step - loss: 4.7492e-06 - mse: 4.7491e-06\n",
            "Epoch 125/200\n",
            "3/3 [==============================] - 1s 423ms/step - loss: 4.7770e-06 - mse: 4.7770e-06\n",
            "Epoch 126/200\n",
            "3/3 [==============================] - 1s 398ms/step - loss: 4.7253e-06 - mse: 4.7253e-06\n",
            "Epoch 127/200\n",
            "3/3 [==============================] - 1s 423ms/step - loss: 4.7246e-06 - mse: 4.7246e-06\n",
            "Epoch 128/200\n",
            "3/3 [==============================] - 1s 388ms/step - loss: 4.7218e-06 - mse: 4.7218e-06\n",
            "Epoch 129/200\n",
            "3/3 [==============================] - 1s 403ms/step - loss: 4.7216e-06 - mse: 4.7216e-06\n",
            "Epoch 130/200\n",
            "3/3 [==============================] - 1s 409ms/step - loss: 4.7066e-06 - mse: 4.7066e-06\n",
            "Epoch 131/200\n",
            "3/3 [==============================] - 1s 413ms/step - loss: 4.7272e-06 - mse: 4.7272e-06\n",
            "Epoch 132/200\n",
            "3/3 [==============================] - 1s 385ms/step - loss: 4.7016e-06 - mse: 4.7016e-06\n",
            "Epoch 133/200\n",
            "3/3 [==============================] - 1s 412ms/step - loss: 4.7019e-06 - mse: 4.7019e-06\n",
            "Epoch 134/200\n",
            "3/3 [==============================] - 1s 395ms/step - loss: 4.7084e-06 - mse: 4.7084e-06\n",
            "Epoch 135/200\n",
            "3/3 [==============================] - 1s 397ms/step - loss: 4.7223e-06 - mse: 4.7223e-06\n",
            "Epoch 136/200\n",
            "3/3 [==============================] - 1s 411ms/step - loss: 4.7524e-06 - mse: 4.7524e-06\n",
            "Epoch 137/200\n",
            "3/3 [==============================] - 1s 392ms/step - loss: 4.7015e-06 - mse: 4.7015e-06\n",
            "Epoch 138/200\n",
            "3/3 [==============================] - 1s 398ms/step - loss: 4.7611e-06 - mse: 4.7611e-06\n",
            "Epoch 139/200\n",
            "3/3 [==============================] - 1s 426ms/step - loss: 4.7537e-06 - mse: 4.7537e-06\n",
            "Epoch 140/200\n",
            "3/3 [==============================] - 1s 404ms/step - loss: 4.9826e-06 - mse: 4.9826e-06\n",
            "Epoch 141/200\n",
            "3/3 [==============================] - 1s 415ms/step - loss: 4.6795e-06 - mse: 4.6795e-06\n",
            "Epoch 142/200\n",
            "3/3 [==============================] - 1s 418ms/step - loss: 4.6482e-06 - mse: 4.6482e-06\n",
            "Epoch 143/200\n",
            "3/3 [==============================] - 1s 433ms/step - loss: 4.6607e-06 - mse: 4.6607e-06\n",
            "Epoch 144/200\n",
            "3/3 [==============================] - 1s 406ms/step - loss: 4.6282e-06 - mse: 4.6282e-06\n",
            "Epoch 145/200\n",
            "3/3 [==============================] - 1s 398ms/step - loss: 4.6702e-06 - mse: 4.6702e-06\n",
            "Epoch 146/200\n",
            "3/3 [==============================] - 1s 413ms/step - loss: 4.7954e-06 - mse: 4.7954e-06\n",
            "Epoch 147/200\n",
            "3/3 [==============================] - 1s 411ms/step - loss: 4.8009e-06 - mse: 4.8009e-06\n",
            "Epoch 148/200\n",
            "3/3 [==============================] - 1s 401ms/step - loss: 5.1338e-06 - mse: 5.1338e-06\n",
            "Epoch 149/200\n",
            "3/3 [==============================] - 1s 410ms/step - loss: 4.9047e-06 - mse: 4.9047e-06\n",
            "Epoch 150/200\n",
            "3/3 [==============================] - 1s 417ms/step - loss: 4.8693e-06 - mse: 4.8693e-06\n",
            "Epoch 151/200\n",
            "3/3 [==============================] - 1s 400ms/step - loss: 4.6640e-06 - mse: 4.6640e-06\n",
            "Epoch 152/200\n",
            "3/3 [==============================] - 1s 403ms/step - loss: 4.6619e-06 - mse: 4.6619e-06\n",
            "Epoch 153/200\n",
            "3/3 [==============================] - 1s 394ms/step - loss: 4.6551e-06 - mse: 4.6551e-06\n",
            "Epoch 154/200\n",
            "3/3 [==============================] - 1s 395ms/step - loss: 4.6596e-06 - mse: 4.6596e-06\n",
            "Epoch 155/200\n",
            "3/3 [==============================] - 1s 410ms/step - loss: 4.6605e-06 - mse: 4.6605e-06\n",
            "Epoch 156/200\n",
            "3/3 [==============================] - 1s 405ms/step - loss: 4.6579e-06 - mse: 4.6579e-06\n",
            "Epoch 157/200\n",
            "3/3 [==============================] - 1s 384ms/step - loss: 4.8995e-06 - mse: 4.8995e-06\n",
            "Epoch 158/200\n",
            "3/3 [==============================] - 1s 408ms/step - loss: 4.8044e-06 - mse: 4.8044e-06\n",
            "Epoch 159/200\n",
            "3/3 [==============================] - 1s 411ms/step - loss: 4.9125e-06 - mse: 4.9125e-06\n",
            "Epoch 160/200\n",
            "3/3 [==============================] - 1s 390ms/step - loss: 4.7006e-06 - mse: 4.7006e-06\n",
            "Epoch 161/200\n",
            "3/3 [==============================] - 1s 422ms/step - loss: 4.8506e-06 - mse: 4.8506e-06\n",
            "Epoch 162/200\n",
            "3/3 [==============================] - 1s 402ms/step - loss: 4.6192e-06 - mse: 4.6192e-06\n",
            "Epoch 163/200\n",
            "3/3 [==============================] - 1s 414ms/step - loss: 4.6422e-06 - mse: 4.6422e-06\n",
            "Epoch 164/200\n",
            "3/3 [==============================] - 1s 413ms/step - loss: 4.5886e-06 - mse: 4.5886e-06\n",
            "Epoch 165/200\n",
            "3/3 [==============================] - 1s 398ms/step - loss: 4.5878e-06 - mse: 4.5878e-06\n",
            "Epoch 166/200\n",
            "3/3 [==============================] - 1s 389ms/step - loss: 4.5196e-06 - mse: 4.5196e-06\n",
            "Epoch 167/200\n",
            "3/3 [==============================] - 1s 418ms/step - loss: 4.5180e-06 - mse: 4.5180e-06\n",
            "Epoch 168/200\n",
            "3/3 [==============================] - 1s 419ms/step - loss: 4.5062e-06 - mse: 4.5062e-06\n",
            "Epoch 169/200\n",
            "3/3 [==============================] - 1s 390ms/step - loss: 4.4800e-06 - mse: 4.4800e-06\n",
            "Epoch 170/200\n",
            "3/3 [==============================] - 1s 415ms/step - loss: 4.4764e-06 - mse: 4.4764e-06\n",
            "Epoch 171/200\n",
            "3/3 [==============================] - 1s 395ms/step - loss: 4.4946e-06 - mse: 4.4946e-06\n",
            "Epoch 172/200\n",
            "3/3 [==============================] - 1s 407ms/step - loss: 4.7906e-06 - mse: 4.7905e-06\n",
            "Epoch 173/200\n",
            "3/3 [==============================] - 1s 408ms/step - loss: 4.5353e-06 - mse: 4.5353e-06\n",
            "Epoch 174/200\n",
            "3/3 [==============================] - 1s 405ms/step - loss: 4.4741e-06 - mse: 4.4741e-06\n",
            "Epoch 175/200\n",
            "3/3 [==============================] - 1s 432ms/step - loss: 4.5291e-06 - mse: 4.5291e-06\n",
            "Epoch 176/200\n",
            "3/3 [==============================] - 1s 430ms/step - loss: 4.6449e-06 - mse: 4.6449e-06\n",
            "Epoch 177/200\n",
            "3/3 [==============================] - 1s 417ms/step - loss: 4.6979e-06 - mse: 4.6979e-06\n",
            "Epoch 178/200\n",
            "3/3 [==============================] - 1s 407ms/step - loss: 4.4537e-06 - mse: 4.4537e-06\n",
            "Epoch 179/200\n",
            "3/3 [==============================] - 1s 398ms/step - loss: 4.4495e-06 - mse: 4.4495e-06\n",
            "Epoch 180/200\n",
            "3/3 [==============================] - 1s 399ms/step - loss: 4.4203e-06 - mse: 4.4203e-06\n",
            "Epoch 181/200\n",
            "3/3 [==============================] - 1s 428ms/step - loss: 4.4447e-06 - mse: 4.4447e-06\n",
            "Epoch 182/200\n",
            "3/3 [==============================] - 1s 425ms/step - loss: 4.4771e-06 - mse: 4.4771e-06\n",
            "Epoch 183/200\n",
            "3/3 [==============================] - 1s 406ms/step - loss: 4.5456e-06 - mse: 4.5456e-06\n",
            "Epoch 184/200\n",
            "3/3 [==============================] - 1s 425ms/step - loss: 4.5040e-06 - mse: 4.5040e-06\n",
            "Epoch 185/200\n",
            "3/3 [==============================] - 1s 403ms/step - loss: 4.4592e-06 - mse: 4.4592e-06\n",
            "Epoch 186/200\n",
            "3/3 [==============================] - 1s 396ms/step - loss: 4.5861e-06 - mse: 4.5861e-06\n",
            "Epoch 187/200\n",
            "3/3 [==============================] - 1s 404ms/step - loss: 4.4942e-06 - mse: 4.4942e-06\n",
            "Epoch 188/200\n",
            "3/3 [==============================] - 1s 401ms/step - loss: 4.4461e-06 - mse: 4.4461e-06\n",
            "Epoch 189/200\n",
            "3/3 [==============================] - 1s 406ms/step - loss: 4.3927e-06 - mse: 4.3927e-06\n",
            "Epoch 190/200\n",
            "3/3 [==============================] - 1s 427ms/step - loss: 4.3888e-06 - mse: 4.3888e-06\n",
            "Epoch 191/200\n",
            "3/3 [==============================] - 1s 424ms/step - loss: 4.7348e-06 - mse: 4.7348e-06\n",
            "Epoch 192/200\n",
            "3/3 [==============================] - 1s 418ms/step - loss: 4.9563e-06 - mse: 4.9563e-06\n",
            "Epoch 193/200\n",
            "3/3 [==============================] - 1s 389ms/step - loss: 5.2429e-06 - mse: 5.2429e-06\n",
            "Epoch 194/200\n",
            "3/3 [==============================] - 1s 387ms/step - loss: 4.9516e-06 - mse: 4.9516e-06\n",
            "Epoch 195/200\n",
            "3/3 [==============================] - 1s 410ms/step - loss: 5.7338e-06 - mse: 5.7338e-06\n",
            "Epoch 196/200\n",
            "3/3 [==============================] - 1s 432ms/step - loss: 6.0934e-06 - mse: 6.0934e-06\n",
            "Epoch 197/200\n",
            "3/3 [==============================] - 1s 414ms/step - loss: 5.6064e-06 - mse: 5.6064e-06\n",
            "Epoch 198/200\n",
            "3/3 [==============================] - 1s 388ms/step - loss: 5.0346e-06 - mse: 5.0346e-06\n",
            "Epoch 199/200\n",
            "3/3 [==============================] - 1s 396ms/step - loss: 4.8236e-06 - mse: 4.8236e-06\n",
            "Epoch 200/200\n",
            "3/3 [==============================] - 1s 402ms/step - loss: 4.7653e-06 - mse: 4.7653e-06\n"
          ],
          "name": "stdout"
        },
        {
          "output_type": "execute_result",
          "data": {
            "text/plain": [
              "<tensorflow.python.keras.callbacks.History at 0x7f7f55619f10>"
            ]
          },
          "metadata": {
            "tags": []
          },
          "execution_count": 36
        }
      ]
    },
    {
      "cell_type": "code",
      "metadata": {
        "colab": {
          "base_uri": "https://localhost:8080/",
          "height": 313
        },
        "id": "LyK79NO7aDjV",
        "outputId": "e3b3f3aa-321e-4125-f9d4-2ffcfe33e7f7"
      },
      "source": [
        "modelpredtest=model_pred.predict(Xpred_test)\n",
        "modelpredtest=modelpredtest.reshape((200,1))\n",
        "rabbits, foxes = preytest,predtest\n",
        "\n",
        "\n",
        "f1 = p.figure()\n",
        "\n",
        "p.plot(X_pred_test[:,6], foxes  , 'b-', label='Foxes')\n",
        "p.plot(X_pred_test[:,6], modelpredtest  , 'r-', label='FoxesModel')\n",
        "p.grid()\n",
        "p.legend(loc='best')\n",
        "p.xlabel('time')\n",
        "p.ylabel('population')\n",
        "p.title('Evolution of fox and rabbit populations')"
      ],
      "execution_count": null,
      "outputs": [
        {
          "output_type": "execute_result",
          "data": {
            "text/plain": [
              "Text(0.5, 1.0, 'Evolution of fox and rabbit populations')"
            ]
          },
          "metadata": {
            "tags": []
          },
          "execution_count": 74
        },
        {
          "output_type": "display_data",
          "data": {
            "image/png": "[encoded data removed]",
            "text/plain": [
              "<Figure size 432x288 with 1 Axes>"
            ]
          },
          "metadata": {
            "tags": [],
            "needs_background": "light"
          }
        }
      ]
    },
    {
      "cell_type": "code",
      "metadata": {
        "colab": {
          "base_uri": "https://localhost:8080/"
        },
        "id": "0hOJaW4yhhLc",
        "outputId": "f5be05c5-351c-45be-a334-eb17be39f618"
      },
      "source": [
        "model_pred.save(\"drive/My Drive/predator_model_sigmoid_final1.h5\")\n",
        "model_pred.save_weights(\"drive/My Drive/predator_model_weights_sigmoid_final1.h5\")\n",
        "print(\"Saved model to disk\")"
      ],
      "execution_count": null,
      "outputs": [
        {
          "output_type": "stream",
          "text": [
            "Saved model to disk\n"
          ],
          "name": "stdout"
        }
      ]
    },
    {
      "cell_type": "code",
      "metadata": {
        "id": "Wb5ut4c2JFk_"
      },
      "source": [
        "model_pred.load_weights(\"drive/My Drive/predator_model_weights_sigmoid.h5\")"
      ],
      "execution_count": null,
      "outputs": []
    },
    {
      "cell_type": "markdown",
      "metadata": {
        "id": "CY5Ie-wUvTou"
      },
      "source": [
        "The predator model worked well and learnt a proper function reasonably quick. However, the prey didn't learn the function despite training for a long time. So, the weights were initialized to the trained predator weights. This was done with the expectation that the predator model weights would have captured some relation on the data and it was seen that it had captured the periodicity as well. While it may not have been the same period that the prey model would need, it was thought of as a good starting point for the prey model to learn from. When this was done, the prey model learnt the functions with much greater ease and converged properly"
      ]
    },
    {
      "cell_type": "code",
      "metadata": {
        "id": "QYNVpmIlONOM"
      },
      "source": [
        " model_prey=tf.keras.models.Sequential([\n",
        "    tf.keras.layers.Bidirectional(tf.keras.layers.LSTM(128,return_sequences=True,input_shape=(200,64),activation='tanh')),\n",
        "    tf.keras.layers.Bidirectional(tf.keras.layers.LSTM(32,return_sequences=True,activation='tanh')),\n",
        "    tf.keras.layers.TimeDistributed(tf.keras.layers.Dense(8,activation='tanh')),\n",
        "    tf.keras.layers.TimeDistributed(tf.keras.layers.Dense(1,activation='sigmoid'))\n",
        "])"
      ],
      "execution_count": null,
      "outputs": []
    },
    {
      "cell_type": "code",
      "metadata": {
        "id": "jr1YUf2KdM6Q",
        "colab": {
          "base_uri": "https://localhost:8080/"
        },
        "outputId": "83aac2b8-a059-4e82-bdc8-5bb16ac691a8"
      },
      "source": [
        "model_prey.compile(optimizer=tf.keras.optimizers.Adam(learning_rate=0.0001),metrics=['mse'],loss='mean_squared_error')\n",
        "model_prey.fit(Xprey_train,prey_train,verbose=1,epochs=300,batch_size=4096,shuffle=True)"
      ],
      "execution_count": null,
      "outputs": [
        {
          "output_type": "stream",
          "text": [
            "Epoch 1/300\n",
            "3/3 [==============================] - 7s 387ms/step - loss: 1.1880e-05 - mse: 1.1880e-05\n",
            "Epoch 2/300\n",
            "3/3 [==============================] - 1s 400ms/step - loss: 1.2966e-05 - mse: 1.2966e-05\n",
            "Epoch 3/300\n",
            "3/3 [==============================] - 1s 416ms/step - loss: 1.1177e-05 - mse: 1.1177e-05\n",
            "Epoch 4/300\n",
            "3/3 [==============================] - 1s 400ms/step - loss: 1.0442e-05 - mse: 1.0442e-05\n",
            "Epoch 5/300\n",
            "3/3 [==============================] - 1s 418ms/step - loss: 9.0960e-06 - mse: 9.0960e-06\n",
            "Epoch 6/300\n",
            "3/3 [==============================] - 1s 421ms/step - loss: 9.0897e-06 - mse: 9.0897e-06\n",
            "Epoch 7/300\n",
            "3/3 [==============================] - 1s 395ms/step - loss: 8.8667e-06 - mse: 8.8667e-06\n",
            "Epoch 8/300\n",
            "3/3 [==============================] - 1s 423ms/step - loss: 9.0067e-06 - mse: 9.0067e-06\n",
            "Epoch 9/300\n",
            "3/3 [==============================] - 1s 470ms/step - loss: 8.7572e-06 - mse: 8.7572e-06\n",
            "Epoch 10/300\n",
            "3/3 [==============================] - 1s 406ms/step - loss: 8.4917e-06 - mse: 8.4917e-06\n",
            "Epoch 11/300\n",
            "3/3 [==============================] - 1s 386ms/step - loss: 8.4940e-06 - mse: 8.4940e-06\n",
            "Epoch 12/300\n",
            "3/3 [==============================] - 1s 392ms/step - loss: 8.4791e-06 - mse: 8.4791e-06\n",
            "Epoch 13/300\n",
            "3/3 [==============================] - 1s 396ms/step - loss: 8.4013e-06 - mse: 8.4013e-06\n",
            "Epoch 14/300\n",
            "3/3 [==============================] - 1s 426ms/step - loss: 8.3907e-06 - mse: 8.3907e-06\n",
            "Epoch 15/300\n",
            "3/3 [==============================] - 1s 403ms/step - loss: 8.3292e-06 - mse: 8.3292e-06\n",
            "Epoch 16/300\n",
            "3/3 [==============================] - 1s 422ms/step - loss: 8.2996e-06 - mse: 8.2996e-06\n",
            "Epoch 17/300\n",
            "3/3 [==============================] - 1s 413ms/step - loss: 8.2673e-06 - mse: 8.2673e-06\n",
            "Epoch 18/300\n",
            "3/3 [==============================] - 1s 414ms/step - loss: 8.2547e-06 - mse: 8.2547e-06\n",
            "Epoch 19/300\n",
            "3/3 [==============================] - 1s 403ms/step - loss: 8.2316e-06 - mse: 8.2316e-06\n",
            "Epoch 20/300\n",
            "3/3 [==============================] - 1s 397ms/step - loss: 8.2630e-06 - mse: 8.2630e-06\n",
            "Epoch 21/300\n",
            "3/3 [==============================] - 1s 395ms/step - loss: 8.2378e-06 - mse: 8.2378e-06\n",
            "Epoch 22/300\n",
            "3/3 [==============================] - 1s 395ms/step - loss: 8.2247e-06 - mse: 8.2247e-06\n",
            "Epoch 23/300\n",
            "3/3 [==============================] - 1s 397ms/step - loss: 8.2362e-06 - mse: 8.2362e-06\n",
            "Epoch 24/300\n",
            "3/3 [==============================] - 1s 421ms/step - loss: 8.2438e-06 - mse: 8.2438e-06\n",
            "Epoch 25/300\n",
            "3/3 [==============================] - 1s 394ms/step - loss: 8.2049e-06 - mse: 8.2049e-06\n",
            "Epoch 26/300\n",
            "3/3 [==============================] - 1s 390ms/step - loss: 8.1720e-06 - mse: 8.1720e-06\n",
            "Epoch 27/300\n",
            "3/3 [==============================] - 1s 398ms/step - loss: 8.1920e-06 - mse: 8.1920e-06\n",
            "Epoch 28/300\n",
            "3/3 [==============================] - 1s 389ms/step - loss: 8.1758e-06 - mse: 8.1758e-06\n",
            "Epoch 29/300\n",
            "3/3 [==============================] - 1s 390ms/step - loss: 8.2014e-06 - mse: 8.2014e-06\n",
            "Epoch 30/300\n",
            "3/3 [==============================] - 1s 429ms/step - loss: 8.2159e-06 - mse: 8.2159e-06\n",
            "Epoch 31/300\n",
            "3/3 [==============================] - 1s 411ms/step - loss: 8.1789e-06 - mse: 8.1789e-06\n",
            "Epoch 32/300\n",
            "3/3 [==============================] - 1s 414ms/step - loss: 8.1662e-06 - mse: 8.1662e-06\n",
            "Epoch 33/300\n",
            "3/3 [==============================] - 1s 398ms/step - loss: 8.1460e-06 - mse: 8.1460e-06\n",
            "Epoch 34/300\n",
            "3/3 [==============================] - 1s 417ms/step - loss: 8.1966e-06 - mse: 8.1965e-06\n",
            "Epoch 35/300\n",
            "3/3 [==============================] - 1s 387ms/step - loss: 8.1815e-06 - mse: 8.1815e-06\n",
            "Epoch 36/300\n",
            "3/3 [==============================] - 1s 425ms/step - loss: 8.1931e-06 - mse: 8.1931e-06\n",
            "Epoch 37/300\n",
            "3/3 [==============================] - 1s 390ms/step - loss: 8.1584e-06 - mse: 8.1584e-06\n",
            "Epoch 38/300\n",
            "3/3 [==============================] - 1s 412ms/step - loss: 8.1460e-06 - mse: 8.1460e-06\n",
            "Epoch 39/300\n",
            "3/3 [==============================] - 1s 422ms/step - loss: 8.1547e-06 - mse: 8.1547e-06\n",
            "Epoch 40/300\n",
            "3/3 [==============================] - 1s 394ms/step - loss: 8.1192e-06 - mse: 8.1192e-06\n",
            "Epoch 41/300\n",
            "3/3 [==============================] - 1s 406ms/step - loss: 8.0974e-06 - mse: 8.0974e-06\n",
            "Epoch 42/300\n",
            "3/3 [==============================] - 1s 417ms/step - loss: 8.0977e-06 - mse: 8.0977e-06\n",
            "Epoch 43/300\n",
            "3/3 [==============================] - 1s 423ms/step - loss: 8.1978e-06 - mse: 8.1978e-06\n",
            "Epoch 44/300\n",
            "3/3 [==============================] - 1s 396ms/step - loss: 8.2042e-06 - mse: 8.2042e-06\n",
            "Epoch 45/300\n",
            "3/3 [==============================] - 1s 397ms/step - loss: 8.1465e-06 - mse: 8.1465e-06\n",
            "Epoch 46/300\n",
            "3/3 [==============================] - 1s 420ms/step - loss: 8.1629e-06 - mse: 8.1629e-06\n",
            "Epoch 47/300\n",
            "3/3 [==============================] - 1s 395ms/step - loss: 8.1549e-06 - mse: 8.1549e-06\n",
            "Epoch 48/300\n",
            "3/3 [==============================] - 1s 392ms/step - loss: 8.1917e-06 - mse: 8.1917e-06\n",
            "Epoch 49/300\n",
            "3/3 [==============================] - 1s 401ms/step - loss: 8.0675e-06 - mse: 8.0675e-06\n",
            "Epoch 50/300\n",
            "3/3 [==============================] - 1s 397ms/step - loss: 8.0681e-06 - mse: 8.0681e-06\n",
            "Epoch 51/300\n",
            "3/3 [==============================] - 1s 395ms/step - loss: 8.0713e-06 - mse: 8.0713e-06\n",
            "Epoch 52/300\n",
            "3/3 [==============================] - 1s 396ms/step - loss: 8.0402e-06 - mse: 8.0402e-06\n",
            "Epoch 53/300\n",
            "3/3 [==============================] - 1s 405ms/step - loss: 8.0383e-06 - mse: 8.0383e-06\n",
            "Epoch 54/300\n",
            "3/3 [==============================] - 1s 417ms/step - loss: 8.0278e-06 - mse: 8.0278e-06\n",
            "Epoch 55/300\n",
            "3/3 [==============================] - 1s 394ms/step - loss: 8.1549e-06 - mse: 8.1549e-06\n",
            "Epoch 56/300\n",
            "3/3 [==============================] - 1s 419ms/step - loss: 8.1019e-06 - mse: 8.1019e-06\n",
            "Epoch 57/300\n",
            "3/3 [==============================] - 1s 409ms/step - loss: 8.2463e-06 - mse: 8.2463e-06\n",
            "Epoch 58/300\n",
            "3/3 [==============================] - 1s 416ms/step - loss: 8.9029e-06 - mse: 8.9029e-06\n",
            "Epoch 59/300\n",
            "3/3 [==============================] - 1s 409ms/step - loss: 9.5069e-06 - mse: 9.5069e-06\n",
            "Epoch 60/300\n",
            "3/3 [==============================] - 1s 396ms/step - loss: 8.9611e-06 - mse: 8.9611e-06\n",
            "Epoch 61/300\n",
            "3/3 [==============================] - 1s 416ms/step - loss: 8.4502e-06 - mse: 8.4502e-06\n",
            "Epoch 62/300\n",
            "3/3 [==============================] - 1s 398ms/step - loss: 8.6292e-06 - mse: 8.6292e-06\n",
            "Epoch 63/300\n",
            "3/3 [==============================] - 1s 382ms/step - loss: 8.3180e-06 - mse: 8.3180e-06\n",
            "Epoch 64/300\n",
            "3/3 [==============================] - 1s 389ms/step - loss: 8.3493e-06 - mse: 8.3493e-06\n",
            "Epoch 65/300\n",
            "3/3 [==============================] - 1s 406ms/step - loss: 8.2263e-06 - mse: 8.2263e-06\n",
            "Epoch 66/300\n",
            "3/3 [==============================] - 1s 410ms/step - loss: 8.3103e-06 - mse: 8.3103e-06\n",
            "Epoch 67/300\n",
            "3/3 [==============================] - 1s 393ms/step - loss: 8.2100e-06 - mse: 8.2100e-06\n",
            "Epoch 68/300\n",
            "3/3 [==============================] - 1s 390ms/step - loss: 8.2311e-06 - mse: 8.2311e-06\n",
            "Epoch 69/300\n",
            "3/3 [==============================] - 1s 414ms/step - loss: 8.1088e-06 - mse: 8.1088e-06\n",
            "Epoch 70/300\n",
            "3/3 [==============================] - 1s 393ms/step - loss: 8.1093e-06 - mse: 8.1093e-06\n",
            "Epoch 71/300\n",
            "3/3 [==============================] - 1s 400ms/step - loss: 8.0559e-06 - mse: 8.0559e-06\n",
            "Epoch 72/300\n",
            "3/3 [==============================] - 1s 417ms/step - loss: 7.9315e-06 - mse: 7.9315e-06\n",
            "Epoch 73/300\n",
            "3/3 [==============================] - 1s 395ms/step - loss: 7.9941e-06 - mse: 7.9941e-06\n",
            "Epoch 74/300\n",
            "3/3 [==============================] - 1s 411ms/step - loss: 7.8966e-06 - mse: 7.8966e-06\n",
            "Epoch 75/300\n",
            "3/3 [==============================] - 1s 420ms/step - loss: 7.8955e-06 - mse: 7.8955e-06\n",
            "Epoch 76/300\n",
            "3/3 [==============================] - 1s 427ms/step - loss: 7.8658e-06 - mse: 7.8658e-06\n",
            "Epoch 77/300\n",
            "3/3 [==============================] - 1s 422ms/step - loss: 7.8835e-06 - mse: 7.8835e-06\n",
            "Epoch 78/300\n",
            "3/3 [==============================] - 1s 399ms/step - loss: 7.8900e-06 - mse: 7.8900e-06\n",
            "Epoch 79/300\n",
            "3/3 [==============================] - 1s 394ms/step - loss: 7.8630e-06 - mse: 7.8630e-06\n",
            "Epoch 80/300\n",
            "3/3 [==============================] - 1s 404ms/step - loss: 7.8390e-06 - mse: 7.8390e-06\n",
            "Epoch 81/300\n",
            "3/3 [==============================] - 1s 392ms/step - loss: 7.8365e-06 - mse: 7.8365e-06\n",
            "Epoch 82/300\n",
            "3/3 [==============================] - 1s 412ms/step - loss: 7.8531e-06 - mse: 7.8531e-06\n",
            "Epoch 83/300\n",
            "3/3 [==============================] - 1s 417ms/step - loss: 7.8214e-06 - mse: 7.8214e-06\n",
            "Epoch 84/300\n",
            "3/3 [==============================] - 1s 394ms/step - loss: 7.7937e-06 - mse: 7.7937e-06\n",
            "Epoch 85/300\n",
            "3/3 [==============================] - 1s 391ms/step - loss: 7.8111e-06 - mse: 7.8111e-06\n",
            "Epoch 86/300\n",
            "3/3 [==============================] - 1s 426ms/step - loss: 7.8064e-06 - mse: 7.8064e-06\n",
            "Epoch 87/300\n",
            "3/3 [==============================] - 1s 403ms/step - loss: 7.8783e-06 - mse: 7.8783e-06\n",
            "Epoch 88/300\n",
            "3/3 [==============================] - 1s 417ms/step - loss: 7.8034e-06 - mse: 7.8034e-06\n",
            "Epoch 89/300\n",
            "3/3 [==============================] - 1s 409ms/step - loss: 7.8044e-06 - mse: 7.8044e-06\n",
            "Epoch 90/300\n",
            "3/3 [==============================] - 1s 406ms/step - loss: 7.7976e-06 - mse: 7.7976e-06\n",
            "Epoch 91/300\n",
            "3/3 [==============================] - 1s 428ms/step - loss: 7.8222e-06 - mse: 7.8222e-06\n",
            "Epoch 92/300\n",
            "3/3 [==============================] - 1s 398ms/step - loss: 7.7804e-06 - mse: 7.7804e-06\n",
            "Epoch 93/300\n",
            "3/3 [==============================] - 1s 421ms/step - loss: 7.8183e-06 - mse: 7.8183e-06\n",
            "Epoch 94/300\n",
            "3/3 [==============================] - 1s 411ms/step - loss: 7.8426e-06 - mse: 7.8426e-06\n",
            "Epoch 95/300\n",
            "3/3 [==============================] - 1s 428ms/step - loss: 7.8727e-06 - mse: 7.8727e-06\n",
            "Epoch 96/300\n",
            "3/3 [==============================] - 1s 425ms/step - loss: 7.8053e-06 - mse: 7.8053e-06\n",
            "Epoch 97/300\n",
            "3/3 [==============================] - 1s 396ms/step - loss: 7.8516e-06 - mse: 7.8516e-06\n",
            "Epoch 98/300\n",
            "3/3 [==============================] - 1s 412ms/step - loss: 7.8229e-06 - mse: 7.8229e-06\n",
            "Epoch 99/300\n",
            "3/3 [==============================] - 1s 405ms/step - loss: 7.7375e-06 - mse: 7.7375e-06\n",
            "Epoch 100/300\n",
            "3/3 [==============================] - 1s 394ms/step - loss: 7.8221e-06 - mse: 7.8221e-06\n",
            "Epoch 101/300\n",
            "3/3 [==============================] - 1s 424ms/step - loss: 7.7666e-06 - mse: 7.7666e-06\n",
            "Epoch 102/300\n",
            "3/3 [==============================] - 1s 397ms/step - loss: 7.7873e-06 - mse: 7.7873e-06\n",
            "Epoch 103/300\n",
            "3/3 [==============================] - 1s 424ms/step - loss: 7.7666e-06 - mse: 7.7666e-06\n",
            "Epoch 104/300\n",
            "3/3 [==============================] - 1s 400ms/step - loss: 7.6868e-06 - mse: 7.6868e-06\n",
            "Epoch 105/300\n",
            "3/3 [==============================] - 1s 403ms/step - loss: 7.7754e-06 - mse: 7.7754e-06\n",
            "Epoch 106/300\n",
            "3/3 [==============================] - 1s 417ms/step - loss: 7.7238e-06 - mse: 7.7238e-06\n",
            "Epoch 107/300\n",
            "3/3 [==============================] - 1s 431ms/step - loss: 7.6481e-06 - mse: 7.6481e-06\n",
            "Epoch 108/300\n",
            "3/3 [==============================] - 1s 408ms/step - loss: 7.6817e-06 - mse: 7.6817e-06\n",
            "Epoch 109/300\n",
            "3/3 [==============================] - 1s 392ms/step - loss: 7.6320e-06 - mse: 7.6320e-06\n",
            "Epoch 110/300\n",
            "3/3 [==============================] - 1s 425ms/step - loss: 7.6433e-06 - mse: 7.6433e-06\n",
            "Epoch 111/300\n",
            "3/3 [==============================] - 1s 424ms/step - loss: 7.6707e-06 - mse: 7.6707e-06\n",
            "Epoch 112/300\n",
            "3/3 [==============================] - 1s 394ms/step - loss: 7.6617e-06 - mse: 7.6617e-06\n",
            "Epoch 113/300\n",
            "3/3 [==============================] - 1s 394ms/step - loss: 7.6275e-06 - mse: 7.6275e-06\n",
            "Epoch 114/300\n",
            "3/3 [==============================] - 1s 432ms/step - loss: 7.6321e-06 - mse: 7.6321e-06\n",
            "Epoch 115/300\n",
            "3/3 [==============================] - 1s 428ms/step - loss: 7.6311e-06 - mse: 7.6311e-06\n",
            "Epoch 116/300\n",
            "3/3 [==============================] - 1s 386ms/step - loss: 7.7243e-06 - mse: 7.7243e-06\n",
            "Epoch 117/300\n",
            "3/3 [==============================] - 1s 414ms/step - loss: 7.7638e-06 - mse: 7.7638e-06\n",
            "Epoch 118/300\n",
            "3/3 [==============================] - 1s 391ms/step - loss: 7.6606e-06 - mse: 7.6606e-06\n",
            "Epoch 119/300\n",
            "3/3 [==============================] - 1s 417ms/step - loss: 7.6557e-06 - mse: 7.6557e-06\n",
            "Epoch 120/300\n",
            "3/3 [==============================] - 1s 395ms/step - loss: 7.5976e-06 - mse: 7.5976e-06\n",
            "Epoch 121/300\n",
            "3/3 [==============================] - 1s 415ms/step - loss: 7.5976e-06 - mse: 7.5976e-06\n",
            "Epoch 122/300\n",
            "3/3 [==============================] - 1s 428ms/step - loss: 7.6033e-06 - mse: 7.6033e-06\n",
            "Epoch 123/300\n",
            "3/3 [==============================] - 1s 386ms/step - loss: 7.6399e-06 - mse: 7.6399e-06\n",
            "Epoch 124/300\n",
            "3/3 [==============================] - 1s 425ms/step - loss: 7.5605e-06 - mse: 7.5605e-06\n",
            "Epoch 125/300\n",
            "3/3 [==============================] - 1s 413ms/step - loss: 7.5563e-06 - mse: 7.5563e-06\n",
            "Epoch 126/300\n",
            "3/3 [==============================] - 1s 400ms/step - loss: 7.5961e-06 - mse: 7.5961e-06\n",
            "Epoch 127/300\n",
            "3/3 [==============================] - 1s 409ms/step - loss: 7.4897e-06 - mse: 7.4897e-06\n",
            "Epoch 128/300\n",
            "3/3 [==============================] - 1s 394ms/step - loss: 7.5760e-06 - mse: 7.5760e-06\n",
            "Epoch 129/300\n",
            "3/3 [==============================] - 1s 381ms/step - loss: 7.4772e-06 - mse: 7.4772e-06\n",
            "Epoch 130/300\n",
            "3/3 [==============================] - 1s 422ms/step - loss: 7.5233e-06 - mse: 7.5233e-06\n",
            "Epoch 131/300\n",
            "3/3 [==============================] - 1s 397ms/step - loss: 7.5295e-06 - mse: 7.5295e-06\n",
            "Epoch 132/300\n",
            "3/3 [==============================] - 1s 399ms/step - loss: 7.4946e-06 - mse: 7.4946e-06\n",
            "Epoch 133/300\n",
            "3/3 [==============================] - 1s 426ms/step - loss: 7.4919e-06 - mse: 7.4919e-06\n",
            "Epoch 134/300\n",
            "3/3 [==============================] - 1s 403ms/step - loss: 7.4551e-06 - mse: 7.4551e-06\n",
            "Epoch 135/300\n",
            "3/3 [==============================] - 1s 410ms/step - loss: 7.4849e-06 - mse: 7.4849e-06\n",
            "Epoch 136/300\n",
            "3/3 [==============================] - 1s 422ms/step - loss: 7.4268e-06 - mse: 7.4268e-06\n",
            "Epoch 137/300\n",
            "3/3 [==============================] - 1s 426ms/step - loss: 7.4388e-06 - mse: 7.4388e-06\n",
            "Epoch 138/300\n",
            "3/3 [==============================] - 1s 408ms/step - loss: 7.4500e-06 - mse: 7.4500e-06\n",
            "Epoch 139/300\n",
            "3/3 [==============================] - 1s 402ms/step - loss: 7.4024e-06 - mse: 7.4024e-06\n",
            "Epoch 140/300\n",
            "3/3 [==============================] - 1s 404ms/step - loss: 7.3890e-06 - mse: 7.3890e-06\n",
            "Epoch 141/300\n",
            "3/3 [==============================] - 1s 400ms/step - loss: 7.5164e-06 - mse: 7.5164e-06\n",
            "Epoch 142/300\n",
            "3/3 [==============================] - 1s 400ms/step - loss: 7.6668e-06 - mse: 7.6668e-06\n",
            "Epoch 143/300\n",
            "3/3 [==============================] - 1s 413ms/step - loss: 7.5565e-06 - mse: 7.5565e-06\n",
            "Epoch 144/300\n",
            "3/3 [==============================] - 1s 423ms/step - loss: 7.7814e-06 - mse: 7.7814e-06\n",
            "Epoch 145/300\n",
            "3/3 [==============================] - 1s 431ms/step - loss: 7.8219e-06 - mse: 7.8219e-06\n",
            "Epoch 146/300\n",
            "3/3 [==============================] - 1s 401ms/step - loss: 7.7288e-06 - mse: 7.7288e-06\n",
            "Epoch 147/300\n",
            "3/3 [==============================] - 1s 437ms/step - loss: 7.6427e-06 - mse: 7.6428e-06\n",
            "Epoch 148/300\n",
            "3/3 [==============================] - 1s 426ms/step - loss: 7.6664e-06 - mse: 7.6664e-06\n",
            "Epoch 149/300\n",
            "3/3 [==============================] - 1s 403ms/step - loss: 7.7270e-06 - mse: 7.7270e-06\n",
            "Epoch 150/300\n",
            "3/3 [==============================] - 1s 392ms/step - loss: 7.7118e-06 - mse: 7.7118e-06\n",
            "Epoch 151/300\n",
            "3/3 [==============================] - 1s 408ms/step - loss: 7.6804e-06 - mse: 7.6804e-06\n",
            "Epoch 152/300\n",
            "3/3 [==============================] - 1s 412ms/step - loss: 7.8183e-06 - mse: 7.8183e-06\n",
            "Epoch 153/300\n",
            "3/3 [==============================] - 1s 398ms/step - loss: 7.6170e-06 - mse: 7.6170e-06\n",
            "Epoch 154/300\n",
            "3/3 [==============================] - 1s 407ms/step - loss: 7.8014e-06 - mse: 7.8014e-06\n",
            "Epoch 155/300\n",
            "3/3 [==============================] - 1s 401ms/step - loss: 7.7427e-06 - mse: 7.7427e-06\n",
            "Epoch 156/300\n",
            "3/3 [==============================] - 1s 400ms/step - loss: 7.6607e-06 - mse: 7.6607e-06\n",
            "Epoch 157/300\n",
            "3/3 [==============================] - 1s 386ms/step - loss: 7.5508e-06 - mse: 7.5508e-06\n",
            "Epoch 158/300\n",
            "3/3 [==============================] - 1s 403ms/step - loss: 7.7363e-06 - mse: 7.7363e-06\n",
            "Epoch 159/300\n",
            "3/3 [==============================] - 1s 404ms/step - loss: 7.4411e-06 - mse: 7.4411e-06\n",
            "Epoch 160/300\n",
            "3/3 [==============================] - 1s 416ms/step - loss: 7.4844e-06 - mse: 7.4844e-06\n",
            "Epoch 161/300\n",
            "3/3 [==============================] - 1s 410ms/step - loss: 7.3344e-06 - mse: 7.3344e-06\n",
            "Epoch 162/300\n",
            "3/3 [==============================] - 1s 402ms/step - loss: 7.3470e-06 - mse: 7.3470e-06\n",
            "Epoch 163/300\n",
            "3/3 [==============================] - 1s 417ms/step - loss: 7.3023e-06 - mse: 7.3023e-06\n",
            "Epoch 164/300\n",
            "3/3 [==============================] - 1s 406ms/step - loss: 7.2875e-06 - mse: 7.2875e-06\n",
            "Epoch 165/300\n",
            "3/3 [==============================] - 1s 409ms/step - loss: 7.2301e-06 - mse: 7.2301e-06\n",
            "Epoch 166/300\n",
            "3/3 [==============================] - 1s 421ms/step - loss: 7.2950e-06 - mse: 7.2950e-06\n",
            "Epoch 167/300\n",
            "3/3 [==============================] - 1s 395ms/step - loss: 7.2418e-06 - mse: 7.2418e-06\n",
            "Epoch 168/300\n",
            "3/3 [==============================] - 1s 425ms/step - loss: 7.3533e-06 - mse: 7.3533e-06\n",
            "Epoch 169/300\n",
            "3/3 [==============================] - 1s 390ms/step - loss: 7.3513e-06 - mse: 7.3513e-06\n",
            "Epoch 170/300\n",
            "3/3 [==============================] - 1s 420ms/step - loss: 7.2919e-06 - mse: 7.2919e-06\n",
            "Epoch 171/300\n",
            "3/3 [==============================] - 1s 426ms/step - loss: 7.2568e-06 - mse: 7.2568e-06\n",
            "Epoch 172/300\n",
            "3/3 [==============================] - 1s 425ms/step - loss: 7.3440e-06 - mse: 7.3440e-06\n",
            "Epoch 173/300\n",
            "3/3 [==============================] - 1s 404ms/step - loss: 7.2314e-06 - mse: 7.2314e-06\n",
            "Epoch 174/300\n",
            "3/3 [==============================] - 1s 429ms/step - loss: 7.2590e-06 - mse: 7.2590e-06\n",
            "Epoch 175/300\n",
            "3/3 [==============================] - 1s 404ms/step - loss: 7.3101e-06 - mse: 7.3101e-06\n",
            "Epoch 176/300\n",
            "3/3 [==============================] - 1s 399ms/step - loss: 7.2521e-06 - mse: 7.2521e-06\n",
            "Epoch 177/300\n",
            "3/3 [==============================] - 1s 410ms/step - loss: 7.3478e-06 - mse: 7.3478e-06\n",
            "Epoch 178/300\n",
            "3/3 [==============================] - 1s 429ms/step - loss: 7.3568e-06 - mse: 7.3568e-06\n",
            "Epoch 179/300\n",
            "3/3 [==============================] - 1s 428ms/step - loss: 7.5179e-06 - mse: 7.5179e-06\n",
            "Epoch 180/300\n",
            "3/3 [==============================] - 1s 399ms/step - loss: 7.5877e-06 - mse: 7.5877e-06\n",
            "Epoch 181/300\n",
            "3/3 [==============================] - 1s 431ms/step - loss: 7.6311e-06 - mse: 7.6311e-06\n",
            "Epoch 182/300\n",
            "3/3 [==============================] - 1s 395ms/step - loss: 7.2712e-06 - mse: 7.2712e-06\n",
            "Epoch 183/300\n",
            "3/3 [==============================] - 1s 396ms/step - loss: 7.4867e-06 - mse: 7.4867e-06\n",
            "Epoch 184/300\n",
            "3/3 [==============================] - 1s 388ms/step - loss: 7.2335e-06 - mse: 7.2335e-06\n",
            "Epoch 185/300\n",
            "3/3 [==============================] - 1s 430ms/step - loss: 7.3481e-06 - mse: 7.3481e-06\n",
            "Epoch 186/300\n",
            "3/3 [==============================] - 1s 391ms/step - loss: 7.1945e-06 - mse: 7.1945e-06\n",
            "Epoch 187/300\n",
            "3/3 [==============================] - 1s 398ms/step - loss: 7.2410e-06 - mse: 7.2410e-06\n",
            "Epoch 188/300\n",
            "3/3 [==============================] - 1s 388ms/step - loss: 7.1907e-06 - mse: 7.1907e-06\n",
            "Epoch 189/300\n",
            "3/3 [==============================] - 1s 405ms/step - loss: 7.2422e-06 - mse: 7.2422e-06\n",
            "Epoch 190/300\n",
            "3/3 [==============================] - 1s 405ms/step - loss: 7.1470e-06 - mse: 7.1470e-06\n",
            "Epoch 191/300\n",
            "3/3 [==============================] - 1s 417ms/step - loss: 7.1447e-06 - mse: 7.1447e-06\n",
            "Epoch 192/300\n",
            "3/3 [==============================] - 1s 433ms/step - loss: 7.1349e-06 - mse: 7.1349e-06\n",
            "Epoch 193/300\n",
            "3/3 [==============================] - 1s 426ms/step - loss: 7.0525e-06 - mse: 7.0525e-06\n",
            "Epoch 194/300\n",
            "3/3 [==============================] - 1s 423ms/step - loss: 7.0769e-06 - mse: 7.0769e-06\n",
            "Epoch 195/300\n",
            "3/3 [==============================] - 1s 429ms/step - loss: 7.0477e-06 - mse: 7.0477e-06\n",
            "Epoch 196/300\n",
            "3/3 [==============================] - 1s 418ms/step - loss: 7.0252e-06 - mse: 7.0252e-06\n",
            "Epoch 197/300\n",
            "3/3 [==============================] - 1s 402ms/step - loss: 7.0263e-06 - mse: 7.0263e-06\n",
            "Epoch 198/300\n",
            "3/3 [==============================] - 1s 405ms/step - loss: 7.0125e-06 - mse: 7.0125e-06\n",
            "Epoch 199/300\n",
            "3/3 [==============================] - 1s 400ms/step - loss: 6.9831e-06 - mse: 6.9831e-06\n",
            "Epoch 200/300\n",
            "3/3 [==============================] - 1s 393ms/step - loss: 6.9774e-06 - mse: 6.9774e-06\n",
            "Epoch 201/300\n",
            "3/3 [==============================] - 1s 412ms/step - loss: 7.0207e-06 - mse: 7.0207e-06\n",
            "Epoch 202/300\n",
            "3/3 [==============================] - 1s 400ms/step - loss: 7.0361e-06 - mse: 7.0361e-06\n",
            "Epoch 203/300\n",
            "3/3 [==============================] - 1s 412ms/step - loss: 7.0403e-06 - mse: 7.0403e-06\n",
            "Epoch 204/300\n",
            "3/3 [==============================] - 1s 405ms/step - loss: 7.0172e-06 - mse: 7.0172e-06\n",
            "Epoch 205/300\n",
            "3/3 [==============================] - 1s 405ms/step - loss: 7.0777e-06 - mse: 7.0777e-06\n",
            "Epoch 206/300\n",
            "3/3 [==============================] - 1s 422ms/step - loss: 7.0543e-06 - mse: 7.0542e-06\n",
            "Epoch 207/300\n",
            "3/3 [==============================] - 1s 421ms/step - loss: 7.0186e-06 - mse: 7.0186e-06\n",
            "Epoch 208/300\n",
            "3/3 [==============================] - 1s 422ms/step - loss: 7.1379e-06 - mse: 7.1379e-06\n",
            "Epoch 209/300\n",
            "3/3 [==============================] - 1s 419ms/step - loss: 7.0686e-06 - mse: 7.0686e-06\n",
            "Epoch 210/300\n",
            "3/3 [==============================] - 1s 414ms/step - loss: 7.0196e-06 - mse: 7.0196e-06\n",
            "Epoch 211/300\n",
            "3/3 [==============================] - 1s 399ms/step - loss: 7.0312e-06 - mse: 7.0312e-06\n",
            "Epoch 212/300\n",
            "3/3 [==============================] - 1s 401ms/step - loss: 7.0504e-06 - mse: 7.0504e-06\n",
            "Epoch 213/300\n",
            "3/3 [==============================] - 1s 429ms/step - loss: 7.0322e-06 - mse: 7.0322e-06\n",
            "Epoch 214/300\n",
            "3/3 [==============================] - 1s 407ms/step - loss: 7.0944e-06 - mse: 7.0944e-06\n",
            "Epoch 215/300\n",
            "3/3 [==============================] - 1s 381ms/step - loss: 6.9947e-06 - mse: 6.9947e-06\n",
            "Epoch 216/300\n",
            "3/3 [==============================] - 1s 395ms/step - loss: 6.9670e-06 - mse: 6.9670e-06\n",
            "Epoch 217/300\n",
            "3/3 [==============================] - 1s 427ms/step - loss: 6.9194e-06 - mse: 6.9194e-06\n",
            "Epoch 218/300\n",
            "3/3 [==============================] - 1s 425ms/step - loss: 6.9165e-06 - mse: 6.9165e-06\n",
            "Epoch 219/300\n",
            "3/3 [==============================] - 1s 424ms/step - loss: 6.8550e-06 - mse: 6.8550e-06\n",
            "Epoch 220/300\n",
            "3/3 [==============================] - 1s 427ms/step - loss: 6.9381e-06 - mse: 6.9381e-06\n",
            "Epoch 221/300\n",
            "3/3 [==============================] - 1s 391ms/step - loss: 6.9338e-06 - mse: 6.9338e-06\n",
            "Epoch 222/300\n",
            "3/3 [==============================] - 1s 404ms/step - loss: 7.0110e-06 - mse: 7.0110e-06\n",
            "Epoch 223/300\n",
            "3/3 [==============================] - 1s 429ms/step - loss: 7.0186e-06 - mse: 7.0186e-06\n",
            "Epoch 224/300\n",
            "3/3 [==============================] - 1s 407ms/step - loss: 7.0223e-06 - mse: 7.0223e-06\n",
            "Epoch 225/300\n",
            "3/3 [==============================] - 1s 425ms/step - loss: 6.9999e-06 - mse: 6.9999e-06\n",
            "Epoch 226/300\n",
            "3/3 [==============================] - 1s 417ms/step - loss: 6.9300e-06 - mse: 6.9300e-06\n",
            "Epoch 227/300\n",
            "3/3 [==============================] - 1s 406ms/step - loss: 6.8757e-06 - mse: 6.8757e-06\n",
            "Epoch 228/300\n",
            "3/3 [==============================] - 1s 419ms/step - loss: 6.8766e-06 - mse: 6.8766e-06\n",
            "Epoch 229/300\n",
            "3/3 [==============================] - 1s 416ms/step - loss: 6.8164e-06 - mse: 6.8164e-06\n",
            "Epoch 230/300\n",
            "3/3 [==============================] - 1s 398ms/step - loss: 7.0214e-06 - mse: 7.0214e-06\n",
            "Epoch 231/300\n",
            "3/3 [==============================] - 1s 415ms/step - loss: 7.1483e-06 - mse: 7.1483e-06\n",
            "Epoch 232/300\n",
            "3/3 [==============================] - 1s 424ms/step - loss: 7.0362e-06 - mse: 7.0362e-06\n",
            "Epoch 233/300\n",
            "3/3 [==============================] - 1s 401ms/step - loss: 7.1993e-06 - mse: 7.1993e-06\n",
            "Epoch 234/300\n",
            "3/3 [==============================] - 1s 407ms/step - loss: 7.1569e-06 - mse: 7.1569e-06\n",
            "Epoch 235/300\n",
            "3/3 [==============================] - 1s 430ms/step - loss: 7.0032e-06 - mse: 7.0032e-06\n",
            "Epoch 236/300\n",
            "3/3 [==============================] - 1s 431ms/step - loss: 6.9382e-06 - mse: 6.9383e-06\n",
            "Epoch 237/300\n",
            "3/3 [==============================] - 1s 427ms/step - loss: 6.8692e-06 - mse: 6.8692e-06\n",
            "Epoch 238/300\n",
            "3/3 [==============================] - 1s 420ms/step - loss: 6.8328e-06 - mse: 6.8328e-06\n",
            "Epoch 239/300\n",
            "3/3 [==============================] - 1s 415ms/step - loss: 6.9413e-06 - mse: 6.9413e-06\n",
            "Epoch 240/300\n",
            "3/3 [==============================] - 1s 402ms/step - loss: 6.8018e-06 - mse: 6.8018e-06\n",
            "Epoch 241/300\n",
            "3/3 [==============================] - 1s 421ms/step - loss: 7.0095e-06 - mse: 7.0095e-06\n",
            "Epoch 242/300\n",
            "3/3 [==============================] - 1s 434ms/step - loss: 6.9478e-06 - mse: 6.9478e-06\n",
            "Epoch 243/300\n",
            "3/3 [==============================] - 1s 424ms/step - loss: 6.8920e-06 - mse: 6.8920e-06\n",
            "Epoch 244/300\n",
            "3/3 [==============================] - 1s 431ms/step - loss: 6.8380e-06 - mse: 6.8380e-06\n",
            "Epoch 245/300\n",
            "3/3 [==============================] - 1s 419ms/step - loss: 6.7390e-06 - mse: 6.7390e-06\n",
            "Epoch 246/300\n",
            "3/3 [==============================] - 1s 426ms/step - loss: 6.8337e-06 - mse: 6.8337e-06\n",
            "Epoch 247/300\n",
            "3/3 [==============================] - 1s 421ms/step - loss: 6.8504e-06 - mse: 6.8504e-06\n",
            "Epoch 248/300\n",
            "3/3 [==============================] - 1s 427ms/step - loss: 6.8149e-06 - mse: 6.8149e-06\n",
            "Epoch 249/300\n",
            "3/3 [==============================] - 1s 410ms/step - loss: 6.7400e-06 - mse: 6.7400e-06\n",
            "Epoch 250/300\n",
            "3/3 [==============================] - 1s 398ms/step - loss: 6.7966e-06 - mse: 6.7966e-06\n",
            "Epoch 251/300\n",
            "3/3 [==============================] - 1s 394ms/step - loss: 6.7719e-06 - mse: 6.7719e-06\n",
            "Epoch 252/300\n",
            "3/3 [==============================] - 1s 398ms/step - loss: 6.8165e-06 - mse: 6.8165e-06\n",
            "Epoch 253/300\n",
            "3/3 [==============================] - 1s 427ms/step - loss: 6.7778e-06 - mse: 6.7778e-06\n",
            "Epoch 254/300\n",
            "3/3 [==============================] - 1s 404ms/step - loss: 6.7229e-06 - mse: 6.7229e-06\n",
            "Epoch 255/300\n",
            "3/3 [==============================] - 1s 398ms/step - loss: 6.6769e-06 - mse: 6.6769e-06\n",
            "Epoch 256/300\n",
            "3/3 [==============================] - 1s 419ms/step - loss: 6.6907e-06 - mse: 6.6907e-06\n",
            "Epoch 257/300\n",
            "3/3 [==============================] - 1s 429ms/step - loss: 6.6866e-06 - mse: 6.6866e-06\n",
            "Epoch 258/300\n",
            "3/3 [==============================] - 1s 401ms/step - loss: 6.6684e-06 - mse: 6.6684e-06\n",
            "Epoch 259/300\n",
            "3/3 [==============================] - 1s 389ms/step - loss: 6.7692e-06 - mse: 6.7692e-06\n",
            "Epoch 260/300\n",
            "3/3 [==============================] - 1s 423ms/step - loss: 6.6228e-06 - mse: 6.6228e-06\n",
            "Epoch 261/300\n",
            "3/3 [==============================] - 1s 422ms/step - loss: 6.6131e-06 - mse: 6.6131e-06\n",
            "Epoch 262/300\n",
            "3/3 [==============================] - 1s 424ms/step - loss: 6.6446e-06 - mse: 6.6446e-06\n",
            "Epoch 263/300\n",
            "3/3 [==============================] - 1s 429ms/step - loss: 6.5866e-06 - mse: 6.5866e-06\n",
            "Epoch 264/300\n",
            "3/3 [==============================] - 1s 429ms/step - loss: 6.5859e-06 - mse: 6.5859e-06\n",
            "Epoch 265/300\n",
            "3/3 [==============================] - 1s 417ms/step - loss: 6.5875e-06 - mse: 6.5875e-06\n",
            "Epoch 266/300\n",
            "3/3 [==============================] - 1s 412ms/step - loss: 6.6172e-06 - mse: 6.6172e-06\n",
            "Epoch 267/300\n",
            "3/3 [==============================] - 1s 406ms/step - loss: 6.6029e-06 - mse: 6.6029e-06\n",
            "Epoch 268/300\n",
            "3/3 [==============================] - 1s 427ms/step - loss: 6.5481e-06 - mse: 6.5481e-06\n",
            "Epoch 269/300\n",
            "3/3 [==============================] - 1s 399ms/step - loss: 6.5604e-06 - mse: 6.5604e-06\n",
            "Epoch 270/300\n",
            "3/3 [==============================] - 1s 429ms/step - loss: 6.7473e-06 - mse: 6.7473e-06\n",
            "Epoch 271/300\n",
            "3/3 [==============================] - 1s 419ms/step - loss: 6.5759e-06 - mse: 6.5759e-06\n",
            "Epoch 272/300\n",
            "3/3 [==============================] - 1s 396ms/step - loss: 6.5325e-06 - mse: 6.5325e-06\n",
            "Epoch 273/300\n",
            "3/3 [==============================] - 1s 404ms/step - loss: 6.5066e-06 - mse: 6.5066e-06\n",
            "Epoch 274/300\n",
            "3/3 [==============================] - 1s 396ms/step - loss: 6.4986e-06 - mse: 6.4986e-06\n",
            "Epoch 275/300\n",
            "3/3 [==============================] - 1s 402ms/step - loss: 6.5314e-06 - mse: 6.5314e-06\n",
            "Epoch 276/300\n",
            "3/3 [==============================] - 1s 403ms/step - loss: 6.5534e-06 - mse: 6.5534e-06\n",
            "Epoch 277/300\n",
            "3/3 [==============================] - 1s 432ms/step - loss: 6.5833e-06 - mse: 6.5833e-06\n",
            "Epoch 278/300\n",
            "3/3 [==============================] - 1s 428ms/step - loss: 6.5234e-06 - mse: 6.5234e-06\n",
            "Epoch 279/300\n",
            "3/3 [==============================] - 1s 391ms/step - loss: 6.6240e-06 - mse: 6.6240e-06\n",
            "Epoch 280/300\n",
            "3/3 [==============================] - 1s 391ms/step - loss: 6.7703e-06 - mse: 6.7703e-06\n",
            "Epoch 281/300\n",
            "3/3 [==============================] - 1s 431ms/step - loss: 6.6507e-06 - mse: 6.6507e-06\n",
            "Epoch 282/300\n",
            "3/3 [==============================] - 1s 416ms/step - loss: 6.5261e-06 - mse: 6.5261e-06\n",
            "Epoch 283/300\n",
            "3/3 [==============================] - 1s 397ms/step - loss: 6.7339e-06 - mse: 6.7339e-06\n",
            "Epoch 284/300\n",
            "3/3 [==============================] - 1s 402ms/step - loss: 6.8081e-06 - mse: 6.8081e-06\n",
            "Epoch 285/300\n",
            "3/3 [==============================] - 1s 397ms/step - loss: 6.6383e-06 - mse: 6.6383e-06\n",
            "Epoch 286/300\n",
            "3/3 [==============================] - 1s 430ms/step - loss: 6.7792e-06 - mse: 6.7792e-06\n",
            "Epoch 287/300\n",
            "3/3 [==============================] - 1s 395ms/step - loss: 6.6837e-06 - mse: 6.6837e-06\n",
            "Epoch 288/300\n",
            "3/3 [==============================] - 1s 400ms/step - loss: 6.6207e-06 - mse: 6.6207e-06\n",
            "Epoch 289/300\n",
            "3/3 [==============================] - 1s 386ms/step - loss: 6.5754e-06 - mse: 6.5754e-06\n",
            "Epoch 290/300\n",
            "3/3 [==============================] - 1s 430ms/step - loss: 6.5340e-06 - mse: 6.5340e-06\n",
            "Epoch 291/300\n",
            "3/3 [==============================] - 1s 405ms/step - loss: 6.5160e-06 - mse: 6.5160e-06\n",
            "Epoch 292/300\n",
            "3/3 [==============================] - 1s 396ms/step - loss: 6.4835e-06 - mse: 6.4835e-06\n",
            "Epoch 293/300\n",
            "3/3 [==============================] - 1s 426ms/step - loss: 6.5161e-06 - mse: 6.5161e-06\n",
            "Epoch 294/300\n",
            "3/3 [==============================] - 1s 405ms/step - loss: 6.5403e-06 - mse: 6.5403e-06\n",
            "Epoch 295/300\n",
            "3/3 [==============================] - 1s 423ms/step - loss: 6.5200e-06 - mse: 6.5200e-06\n",
            "Epoch 296/300\n",
            "3/3 [==============================] - 1s 392ms/step - loss: 6.5210e-06 - mse: 6.5210e-06\n",
            "Epoch 297/300\n",
            "3/3 [==============================] - 1s 404ms/step - loss: 6.4280e-06 - mse: 6.4280e-06\n",
            "Epoch 298/300\n",
            "3/3 [==============================] - 1s 385ms/step - loss: 6.3828e-06 - mse: 6.3828e-06\n",
            "Epoch 299/300\n",
            "3/3 [==============================] - 1s 402ms/step - loss: 6.3791e-06 - mse: 6.3791e-06\n",
            "Epoch 300/300\n",
            "3/3 [==============================] - 1s 404ms/step - loss: 6.3692e-06 - mse: 6.3692e-06\n"
          ],
          "name": "stdout"
        },
        {
          "output_type": "execute_result",
          "data": {
            "text/plain": [
              "<tensorflow.python.keras.callbacks.History at 0x7f7f42b45e50>"
            ]
          },
          "metadata": {
            "tags": []
          },
          "execution_count": 86
        }
      ]
    },
    {
      "cell_type": "code",
      "metadata": {
        "colab": {
          "base_uri": "https://localhost:8080/",
          "height": 313
        },
        "id": "ZqIQgzzFeN7j",
        "outputId": "f4a9407c-c7ee-4c59-d0b2-fb0e9e1ec769"
      },
      "source": [
        "modelpreytest=model_prey.predict(Xprey_test)\n",
        "modelpreytest=modelpreytest.reshape((200,1))\n",
        "rabbits, foxes = preytest,predtest\n",
        "\n",
        "\n",
        "f1 = p.figure()\n",
        "\n",
        "p.plot(X_prey_test[:,6], rabbits  , 'b-', label='Rabbits')\n",
        "p.plot(X_prey_test[:,6], modelpreytest  , 'r-', label='RabbitsModel')\n",
        "p.grid()\n",
        "p.legend(loc='best')\n",
        "p.xlabel('time')\n",
        "p.ylabel('population')\n",
        "p.title('Evolution of fox and rabbit populations')"
      ],
      "execution_count": null,
      "outputs": [
        {
          "output_type": "execute_result",
          "data": {
            "text/plain": [
              "Text(0.5, 1.0, 'Evolution of fox and rabbit populations')"
            ]
          },
          "metadata": {
            "tags": []
          },
          "execution_count": 87
        },
        {
          "output_type": "display_data",
          "data": {
            "image/png": "[encoded data removed]",
            "text/plain": [
              "<Figure size 432x288 with 1 Axes>"
            ]
          },
          "metadata": {
            "tags": [],
            "needs_background": "light"
          }
        }
      ]
    },
    {
      "cell_type": "code",
      "metadata": {
        "colab": {
          "base_uri": "https://localhost:8080/"
        },
        "id": "LfSX82ht1g8A",
        "outputId": "ef9ce262-8028-40bb-dca6-b89760a97ddf"
      },
      "source": [
        "model_prey.save(\"drive/My Drive/prey_model_sigmoid_final1.h5\")\n",
        "model_prey.save_weights(\"drive/My Drive/prey_model_sigmoid_weights_final1.h5\")\n",
        "print(\"Saved model to disk\")"
      ],
      "execution_count": null,
      "outputs": [
        {
          "output_type": "stream",
          "text": [
            "Saved model to disk\n"
          ],
          "name": "stdout"
        }
      ]
    },
    {
      "cell_type": "code",
      "metadata": {
        "id": "VTXCfdHj9TYH"
      },
      "source": [
        "model_prey.load_weights(\"drive/My Drive/prey_model_sigmoid_weights_final.h5\")"
      ],
      "execution_count": null,
      "outputs": []
    },
    {
      "cell_type": "code",
      "metadata": {
        "colab": {
          "base_uri": "https://localhost:8080/",
          "height": 368
        },
        "id": "BEGAWQsqMyDM",
        "outputId": "a3e13161-6387-4159-8056-6039683f543a"
      },
      "source": [
        "f1 = p.figure(figsize=(10,5))\n",
        "rabbits, foxes = preytest,predtest\n",
        "p.plot(X_prey_test[:,6], rabbits  , 'b-', label='Rabbits')\n",
        "p.plot(X_prey_test[:,6], foxes  , 'r-', label='Foxes')\n",
        "p.grid()\n",
        "p.legend(loc='best')\n",
        "p.xlabel('time')\n",
        "p.ylabel('population')\n",
        "p.title('Evolution of fox and rabbit populations')"
      ],
      "execution_count": null,
      "outputs": [
        {
          "output_type": "execute_result",
          "data": {
            "text/plain": [
              "Text(0.5, 1.0, 'Evolution of fox and rabbit populations')"
            ]
          },
          "metadata": {
            "tags": []
          },
          "execution_count": 89
        },
        {
          "output_type": "display_data",
          "data": {
            "image/png": "[encoded data removed]",
            "text/plain": [
              "<Figure size 720x360 with 1 Axes>"
            ]
          },
          "metadata": {
            "tags": [],
            "needs_background": "light"
          }
        }
      ]
    },
    {
      "cell_type": "code",
      "metadata": {
        "colab": {
          "base_uri": "https://localhost:8080/",
          "height": 368
        },
        "id": "206VBaFqNIGd",
        "outputId": "c98e85b2-98f2-42f1-a846-63ff3c736580"
      },
      "source": [
        "f1 = p.figure(figsize=(10,5))\n",
        "rabbits, foxes = preytest,predtest\n",
        "\n",
        "p.plot(X_prey_test[:,6], modelpreytest  , 'b-', label='Rabbits')\n",
        "p.plot(X_prey_test[:,6], modelpredtest  , 'r-', label='Foxes')\n",
        "p.grid()\n",
        "p.legend(loc='best')\n",
        "p.xlabel('time')\n",
        "p.ylabel('population')\n",
        "p.title('Evolution of fox and rabbit populations from the model')"
      ],
      "execution_count": null,
      "outputs": [
        {
          "output_type": "execute_result",
          "data": {
            "text/plain": [
              "Text(0.5, 1.0, 'Evolution of fox and rabbit populations from the model')"
            ]
          },
          "metadata": {
            "tags": []
          },
          "execution_count": 90
        },
        {
          "output_type": "display_data",
          "data": {
            "image/png": "[encoded data removed]",
            "text/plain": [
              "<Figure size 720x360 with 1 Axes>"
            ]
          },
          "metadata": {
            "tags": [],
            "needs_background": "light"
          }
        }
      ]
    },
    {
      "cell_type": "markdown",
      "metadata": {
        "id": "QeYWal2lsxxe"
      },
      "source": [
        "#Coupling"
      ]
    },
    {
      "cell_type": "markdown",
      "metadata": {
        "id": "CMjBRwqTv6_r"
      },
      "source": [
        "We initially pre compute the functions of the input variables and store them. The only feature relevant for coupling is the predator / prey population depending on the model that we are using. All the other features can be computed and stored before hand and only the population values need to be computed on the fly. So, the population values can be concatenated with the pre comptued features to be fed into the model at the next time step"
      ]
    },
    {
      "cell_type": "code",
      "metadata": {
        "colab": {
          "base_uri": "https://localhost:8080/"
        },
        "id": "FcoGRSVV3RF6",
        "outputId": "f9ed6cb2-5403-4899-8da3-110dfb65f2ea"
      },
      "source": [
        "X_pred_test_precomputed=Xpred_test[:,:,:56]\n",
        "X_prey_test_precomputed=Xprey_test[:,:,:56]\n",
        "print(X_prey_test_precomputed.shape)\n",
        "Xpred_test_start=np.expand_dims(np.expand_dims(Xpred_test[0][0],axis=0),axis=0)\n",
        "Xprey_test_start=np.expand_dims(np.expand_dims(Xprey_test[0][0],axis=0),axis=0)\n",
        "print (Xpred_test_start.shape)\n",
        "print (Xprey_test_start.shape)\n",
        "\n",
        "X_pred_test_temp=Xpred_test_start\n",
        "X_prey_test_temp=Xprey_test_start"
      ],
      "execution_count": null,
      "outputs": [
        {
          "output_type": "stream",
          "text": [
            "(1, 200, 56)\n",
            "(1, 1, 64)\n",
            "(1, 1, 64)\n"
          ],
          "name": "stdout"
        }
      ]
    },
    {
      "cell_type": "markdown",
      "metadata": {
        "id": "W30QQsB1wU6E"
      },
      "source": [
        "We feed initial conditions to the model and make a prediction on the data. Then we compute the associated functions of the output and concatenate it with the initial conditions. We repeat this process for the other model. After this step we have a model with 2 time steps as the input and we repeat the whole process in a loop. So in each iteration, we re run the model all the way from time step 0, get the predictions, compute the functions of all the outputs from time step 0 to t, and then concatenate them with the pre computed functions. This is important because if we feed in only one time step at a time, we are losing information about the previous time steps and the LSTM won't do very well. "
      ]
    },
    {
      "cell_type": "code",
      "metadata": {
        "id": "rCNTyUaX-yYy"
      },
      "source": [
        "X_pred_test_precomputed=Xpred_test[:,:,:56]\n",
        "X_prey_test_precomputed=Xprey_test[:,:,:56]\n",
        "\n",
        "Xpred_test_start=np.expand_dims(np.expand_dims(Xpred_test[0][0],axis=0),axis=0)\n",
        "Xprey_test_start=np.expand_dims(np.expand_dims(Xprey_test[0][0],axis=0),axis=0)\n",
        "\n",
        "X_pred_test_temp=Xpred_test_start\n",
        "X_prey_test_temp=Xprey_test_start\n",
        "\n",
        "for t in range(1,200):\n",
        "  #scaling\n",
        "  print (t)\n",
        "  X_pred_test_temp=scaler.fit_transform(X_pred_test_temp.reshape((X_pred_test_temp.shape[1],64)))\n",
        "  X_pred_test_temp=np.expand_dims(X_pred_test_temp,axis=0)\n",
        "  X_prey_test_temp=scaler.fit_transform(X_prey_test_temp.reshape((X_prey_test_temp.shape[1],64)))\n",
        "  X_prey_test_temp=np.expand_dims(X_prey_test_temp,axis=0)\n",
        "  #predicting with the model\n",
        "  modelpredtest_temp=model_pred.predict(X_pred_test_temp)\n",
        "  modelpredtest_temp=modelpredtest_temp.reshape((modelpredtest_temp.shape[1],1))\n",
        "  #computing functions for the current predicted predator population \n",
        "  cos_pred=np.cos(modelpredtest_temp)\n",
        "  sin_pred=np.sin(modelpredtest_temp)\n",
        "  ln_pred=np.log(modelpredtest_temp)\n",
        "  tanh_pred=np.tanh(modelpredtest_temp)\n",
        "  pred_inv=1/modelpredtest_temp\n",
        "  sqrt_pred=np.sqrt(modelpredtest_temp)\n",
        "  e_minuspred=np.exp(-modelpredtest_temp)\n",
        "  #concatenating those functions with the current prediction to get a (t,8) shape matrix\n",
        "  fn_pred=np.concatenate((modelpredtest_temp,cos_pred,sin_pred,ln_pred,tanh_pred,pred_inv,sqrt_pred,e_minuspred),axis=1)\n",
        "  fn_pred=np.expand_dims(fn_pred,axis=0)\n",
        "  #concatenating that predator value with the precomputed values for those time steps\n",
        " \n",
        "  Xprey_test_temp=np.concatenate((X_prey_test_precomputed[:,:t,:],fn_pred),axis=2)\n",
        "\n",
        "  #repeating the above process for prey population\n",
        "  modelpreytest_temp=model_prey.predict(X_prey_test_temp)\n",
        "  modelpreytest_temp=modelpreytest_temp.reshape((modelpreytest_temp.shape[1],1))\n",
        "\n",
        "  cos_prey=np.cos(modelpreytest_temp)\n",
        "  sin_prey=np.sin(modelpreytest_temp)\n",
        "  ln_prey=np.log(modelpreytest_temp)\n",
        "  tanh_prey=np.tanh(modelpreytest_temp)\n",
        "  prey_inv=1/modelpreytest_temp\n",
        "  sqrt_prey=np.sqrt(modelpreytest_temp)\n",
        "  e_minusprey=np.exp(-modelpreytest_temp)\n",
        "\n",
        "  fn_prey=np.concatenate((modelpreytest_temp,cos_prey,sin_prey,ln_pred,tanh_prey,prey_inv,sqrt_prey,e_minusprey),axis=1)\n",
        "  fn_prey=np.expand_dims(fn_prey,axis=0)\n",
        "  Xpred_test_temp=np.concatenate((X_pred_test_precomputed[:,:t,:],fn_prey),axis=2)\n",
        "\n",
        "\n",
        "  #concatenate the value upto the current time steps with the starting value \n",
        "  X_prey_test_temp=np.concatenate((Xprey_test_start,Xprey_test_temp),axis=1)\n",
        "  X_pred_test_temp=np.concatenate((Xpred_test_start,Xpred_test_temp),axis=1)"
      ],
      "execution_count": null,
      "outputs": []
    },
    {
      "cell_type": "code",
      "metadata": {
        "colab": {
          "base_uri": "https://localhost:8080/"
        },
        "id": "5muxrj1YHZ1H",
        "outputId": "c1de912f-623a-411d-8bdf-2db19c4a3697"
      },
      "source": [
        "X_prey_test_temp.shape\n",
        "X_pred_test_temp.shape"
      ],
      "execution_count": null,
      "outputs": [
        {
          "output_type": "execute_result",
          "data": {
            "text/plain": [
              "(1, 200, 64)"
            ]
          },
          "metadata": {
            "tags": []
          },
          "execution_count": 96
        }
      ]
    },
    {
      "cell_type": "code",
      "metadata": {
        "id": "YlOtk_pEHh8o"
      },
      "source": [
        "modelpredtest_temp=model_pred.predict(X_pred_test_temp)\n",
        "modelpredtest_temp.shape"
      ],
      "execution_count": null,
      "outputs": []
    },
    {
      "cell_type": "code",
      "metadata": {
        "colab": {
          "base_uri": "https://localhost:8080/"
        },
        "id": "4ca4gU4iH2h0",
        "outputId": "085c053f-66be-4fd5-d63c-66cc818d00da"
      },
      "source": [
        "modelpreytest_temp=model_prey.predict(X_prey_test_temp)\n",
        "modelpreytest_temp.shape"
      ],
      "execution_count": null,
      "outputs": [
        {
          "output_type": "execute_result",
          "data": {
            "text/plain": [
              "(1, 200, 1)"
            ]
          },
          "metadata": {
            "tags": []
          },
          "execution_count": 99
        }
      ]
    },
    {
      "cell_type": "code",
      "metadata": {
        "colab": {
          "base_uri": "https://localhost:8080/",
          "height": 368
        },
        "id": "m6kgIY1IHpUG",
        "outputId": "58a56436-5ce4-4e84-efa6-b176c575b5e4"
      },
      "source": [
        "f1 = p.figure(figsize=(10,5))\n",
        "rabbits, foxes = preytest,predtest\n",
        "\n",
        "p.plot(X_prey_test[:,6], modelpreytest_temp[0]  , 'b-', label='Rabbits')\n",
        "p.plot(X_prey_test[:,6], modelpredtest_temp[0] , 'r-', label='Foxes')\n",
        "p.grid()\n",
        "p.legend(loc='best')\n",
        "p.xlabel('time')\n",
        "p.ylabel('population')\n",
        "p.title('Evolution of fox and rabbit populations from the model')"
      ],
      "execution_count": null,
      "outputs": [
        {
          "output_type": "execute_result",
          "data": {
            "text/plain": [
              "Text(0.5, 1.0, 'Evolution of fox and rabbit populations from the model')"
            ]
          },
          "metadata": {
            "tags": []
          },
          "execution_count": 100
        },
        {
          "output_type": "display_data",
          "data": {
            "image/png": "[encoded data removed]",
            "text/plain": [
              "<Figure size 720x360 with 1 Axes>"
            ]
          },
          "metadata": {
            "tags": [],
            "needs_background": "light"
          }
        }
      ]
    },
    {
      "cell_type": "markdown",
      "metadata": {
        "id": "O-4_BavAyLca"
      },
      "source": [
        "Solving the inverse learning problem for this becomes quite complicated. First the function itself isn't bijective. However, the gradient descent method where we minimize the cost function with respect to the input variables could be a viable method for finding one solution. This would be subject to the random initialization but it can find a solution. But the problem lies in the fact that, unlike an FFNN, the back prop equations for an LSTM aren't simple. They would also involve back prop through time. Which would mean that we would need to keep track of the cell states and such. Additionally we would run into vanishing gradient problems. How we would get around this problem is not very clear at this point. But if we give it just one time step and need it to find inputs corresponding to that single time step, the above method could work but might not work very well"
      ]
    },
    {
      "cell_type": "markdown",
      "metadata": {
        "id": "an6vjF5iTJFH"
      },
      "source": [
        "#FFNN (did not work well)"
      ]
    },
    {
      "cell_type": "code",
      "metadata": {
        "id": "FJAA_7hEKjAR"
      },
      "source": [
        "model_pred=tf.keras.models.Sequential([\n",
        "    tf.keras.layers.Dense(units=128,input_shape=(64,),activation='tanh'), \n",
        "    tf.keras.layers.Dense(units=64,activation='tanh'),\n",
        "    tf.keras.layers.Dense(units=32,activation='tanh'),\n",
        "    tf.keras.layers.Dense(units=16,activation='tanh'),\n",
        "    tf.keras.layers.Dense(units=8,activation='tanh'), \n",
        "    tf.keras.layers.Dense(units=4,activation='tanh'),\n",
        "    tf.keras.layers.Dense(units=2,activation='tanh'), \n",
        "    tf.keras.layers.Dense(units=1,activation='sigmoid')\n",
        "])"
      ],
      "execution_count": null,
      "outputs": []
    },
    {
      "cell_type": "code",
      "metadata": {
        "id": "xJPy2xaAw0iI",
        "colab": {
          "base_uri": "https://localhost:8080/"
        },
        "outputId": "e9a16c89-4bf2-4215-b633-f5082b139593"
      },
      "source": [
        "model_pred.compile(optimizer=tf.keras.optimizers.Adam(learning_rate=0.001),metrics=['mse'],loss='binary_crossentropy')\n",
        "model_pred.fit(X_pred_train,pred,verbose=1,epochs=50,batch_size=100000,shuffle=True)"
      ],
      "execution_count": null,
      "outputs": [
        {
          "output_type": "stream",
          "text": [
            "Epoch 1/50\n",
            "20/20 [==============================] - 1s 25ms/step - loss: 0.0535 - mse: 7.8898e-04\n",
            "Epoch 2/50\n",
            "20/20 [==============================] - 0s 22ms/step - loss: 0.0525 - mse: 7.3798e-04\n",
            "Epoch 3/50\n",
            "20/20 [==============================] - 0s 22ms/step - loss: 0.0517 - mse: 7.1029e-04\n",
            "Epoch 4/50\n",
            "20/20 [==============================] - 0s 21ms/step - loss: 0.0510 - mse: 6.7470e-04\n",
            "Epoch 5/50\n",
            "20/20 [==============================] - 0s 22ms/step - loss: 0.0504 - mse: 6.6085e-04\n",
            "Epoch 6/50\n",
            "20/20 [==============================] - 0s 21ms/step - loss: 0.0500 - mse: 6.4649e-04\n",
            "Epoch 7/50\n",
            "20/20 [==============================] - 0s 21ms/step - loss: 0.0494 - mse: 6.2481e-04\n",
            "Epoch 8/50\n",
            "20/20 [==============================] - 0s 21ms/step - loss: 0.0490 - mse: 6.0725e-04\n",
            "Epoch 9/50\n",
            "20/20 [==============================] - 0s 21ms/step - loss: 0.0487 - mse: 6.0119e-04\n",
            "Epoch 10/50\n",
            "20/20 [==============================] - 0s 22ms/step - loss: 0.0483 - mse: 5.9241e-04\n",
            "Epoch 11/50\n",
            "20/20 [==============================] - 0s 22ms/step - loss: 0.0482 - mse: 5.8766e-04\n",
            "Epoch 12/50\n",
            "20/20 [==============================] - 0s 22ms/step - loss: 0.0479 - mse: 5.6955e-04\n",
            "Epoch 13/50\n",
            "20/20 [==============================] - 0s 22ms/step - loss: 0.0477 - mse: 5.7245e-04\n",
            "Epoch 14/50\n",
            "20/20 [==============================] - 0s 21ms/step - loss: 0.0475 - mse: 5.6243e-04\n",
            "Epoch 15/50\n",
            "20/20 [==============================] - 0s 21ms/step - loss: 0.0474 - mse: 5.5725e-04\n",
            "Epoch 16/50\n",
            "20/20 [==============================] - 0s 22ms/step - loss: 0.0473 - mse: 5.5831e-04\n",
            "Epoch 17/50\n",
            "20/20 [==============================] - 0s 20ms/step - loss: 0.0471 - mse: 5.5538e-04\n",
            "Epoch 18/50\n",
            "20/20 [==============================] - 0s 21ms/step - loss: 0.0470 - mse: 5.5831e-04\n",
            "Epoch 19/50\n",
            "20/20 [==============================] - 0s 23ms/step - loss: 0.0468 - mse: 5.4435e-04\n",
            "Epoch 20/50\n",
            "20/20 [==============================] - 0s 20ms/step - loss: 0.0468 - mse: 5.5191e-04\n",
            "Epoch 21/50\n",
            "20/20 [==============================] - 0s 23ms/step - loss: 0.0467 - mse: 5.4153e-04\n",
            "Epoch 22/50\n",
            "20/20 [==============================] - 0s 20ms/step - loss: 0.0467 - mse: 5.4182e-04\n",
            "Epoch 23/50\n",
            "20/20 [==============================] - 0s 21ms/step - loss: 0.0466 - mse: 5.3828e-04\n",
            "Epoch 24/50\n",
            "20/20 [==============================] - 0s 23ms/step - loss: 0.0466 - mse: 5.4238e-04\n",
            "Epoch 25/50\n",
            "20/20 [==============================] - 0s 23ms/step - loss: 0.0465 - mse: 5.4163e-04\n",
            "Epoch 26/50\n",
            "20/20 [==============================] - 0s 22ms/step - loss: 0.0465 - mse: 5.4364e-04\n",
            "Epoch 27/50\n",
            "20/20 [==============================] - 0s 23ms/step - loss: 0.0465 - mse: 5.3807e-04\n",
            "Epoch 28/50\n",
            "20/20 [==============================] - 0s 22ms/step - loss: 0.0465 - mse: 5.4457e-04\n",
            "Epoch 29/50\n",
            "20/20 [==============================] - 0s 22ms/step - loss: 0.0466 - mse: 5.5128e-04\n",
            "Epoch 30/50\n",
            "20/20 [==============================] - 0s 23ms/step - loss: 0.0464 - mse: 5.4426e-04\n",
            "Epoch 31/50\n",
            "20/20 [==============================] - 0s 21ms/step - loss: 0.0464 - mse: 5.3774e-04\n",
            "Epoch 32/50\n",
            "20/20 [==============================] - 0s 22ms/step - loss: 0.0464 - mse: 5.4436e-04\n",
            "Epoch 33/50\n",
            "20/20 [==============================] - 0s 22ms/step - loss: 0.0465 - mse: 5.4455e-04\n",
            "Epoch 34/50\n",
            "20/20 [==============================] - 0s 22ms/step - loss: 0.0463 - mse: 5.3965e-04\n",
            "Epoch 35/50\n",
            "20/20 [==============================] - 0s 23ms/step - loss: 0.0463 - mse: 5.3803e-04\n",
            "Epoch 36/50\n",
            "20/20 [==============================] - 0s 21ms/step - loss: 0.0462 - mse: 5.2720e-04\n",
            "Epoch 37/50\n",
            "20/20 [==============================] - 0s 21ms/step - loss: 0.0464 - mse: 5.3676e-04\n",
            "Epoch 38/50\n",
            "20/20 [==============================] - 0s 22ms/step - loss: 0.0464 - mse: 5.3784e-04\n",
            "Epoch 39/50\n",
            "20/20 [==============================] - 0s 22ms/step - loss: 0.0463 - mse: 5.3966e-04\n",
            "Epoch 40/50\n",
            "20/20 [==============================] - 0s 22ms/step - loss: 0.0463 - mse: 5.3148e-04\n",
            "Epoch 41/50\n",
            "20/20 [==============================] - 0s 21ms/step - loss: 0.0464 - mse: 5.4123e-04\n",
            "Epoch 42/50\n",
            "20/20 [==============================] - 0s 23ms/step - loss: 0.0464 - mse: 5.3794e-04\n",
            "Epoch 43/50\n",
            "20/20 [==============================] - 0s 22ms/step - loss: 0.0462 - mse: 5.3105e-04\n",
            "Epoch 44/50\n",
            "20/20 [==============================] - 0s 22ms/step - loss: 0.0464 - mse: 5.3875e-04\n",
            "Epoch 45/50\n",
            "20/20 [==============================] - 0s 21ms/step - loss: 0.0464 - mse: 5.4605e-04\n",
            "Epoch 46/50\n",
            "20/20 [==============================] - 0s 21ms/step - loss: 0.0464 - mse: 5.4160e-04\n",
            "Epoch 47/50\n",
            "20/20 [==============================] - 0s 22ms/step - loss: 0.0465 - mse: 5.4368e-04\n",
            "Epoch 48/50\n",
            "20/20 [==============================] - 0s 22ms/step - loss: 0.0464 - mse: 5.3735e-04\n",
            "Epoch 49/50\n",
            "20/20 [==============================] - 0s 21ms/step - loss: 0.0463 - mse: 5.4189e-04\n",
            "Epoch 50/50\n",
            "20/20 [==============================] - 0s 19ms/step - loss: 0.0464 - mse: 5.3916e-04\n"
          ],
          "name": "stdout"
        },
        {
          "output_type": "execute_result",
          "data": {
            "text/plain": [
              "<tensorflow.python.keras.callbacks.History at 0x7f992d3819d0>"
            ]
          },
          "metadata": {
            "tags": []
          },
          "execution_count": 47
        }
      ]
    },
    {
      "cell_type": "code",
      "metadata": {
        "id": "mc1kOoKt1yxa"
      },
      "source": [
        "modelpredtest=model_pred.predict(X_pred_test)\n"
      ],
      "execution_count": null,
      "outputs": []
    },
    {
      "cell_type": "code",
      "metadata": {
        "colab": {
          "base_uri": "https://localhost:8080/",
          "height": 312
        },
        "id": "BXQ_bC2D1m9k",
        "outputId": "fc7e4838-27b8-4c49-ea41-a39e407dc384"
      },
      "source": [
        "rabbits, foxes = preytest,predtest\n",
        "\n",
        "\n",
        "f1 = p.figure()\n",
        "\n",
        "\n",
        "p.plot(X_pred_test[:,6], foxes  , 'b-', label='Foxes')\n",
        "p.plot(X_pred_test[:,6], modelpredtest  , 'r-', label='FoxesModel')\n",
        "p.grid()\n",
        "p.legend(loc='best')\n",
        "p.xlabel('time')\n",
        "p.ylabel('population')\n",
        "p.title('Evolution of fox and rabbit populations')\n"
      ],
      "execution_count": null,
      "outputs": [
        {
          "output_type": "execute_result",
          "data": {
            "text/plain": [
              "Text(0.5, 1.0, 'Evolution of fox and rabbit populations')"
            ]
          },
          "metadata": {
            "tags": []
          },
          "execution_count": 52
        },
        {
          "output_type": "display_data",
          "data": {
            "image/png": "[encoded data removed]",
            "text/plain": [
              "<Figure size 432x288 with 1 Axes>"
            ]
          },
          "metadata": {
            "tags": [],
            "needs_background": "light"
          }
        }
      ]
    },
    {
      "cell_type": "markdown",
      "metadata": {
        "id": "Rg9-QjvwSuWk"
      },
      "source": [
        "#Not working / to be scrapped / debug code "
      ]
    },
    {
      "cell_type": "code",
      "metadata": {
        "colab": {
          "base_uri": "https://localhost:8080/"
        },
        "id": "FHKV-LYQCnZr",
        "outputId": "44219c5f-4024-452a-e40a-fccc78a2e602"
      },
      "source": [
        "X_train_new=[]\n",
        "\n",
        "for j in range(1,200):\n",
        "\n",
        "  \n",
        "  x5=X_train[:,j-1,:]\n",
        "  x_train_temp=np.concatenate((x5,X_train[:,j,:]),axis=1)\n",
        "  X_train_new.append(x_train_temp)\n",
        "\n",
        "\n",
        "print ((X_train_new[0].shape))"
      ],
      "execution_count": null,
      "outputs": [
        {
          "output_type": "stream",
          "text": [
            "(10000, 128)\n"
          ],
          "name": "stdout"
        }
      ]
    },
    {
      "cell_type": "code",
      "metadata": {
        "colab": {
          "base_uri": "https://localhost:8080/"
        },
        "id": "hy90L6ijHght",
        "outputId": "9807a0c9-d715-4bcc-fab3-a6078d65ca85"
      },
      "source": [
        "X_train_steps=[]\n",
        "for i in range (len(X_train_new)):\n",
        "  for j in range (X_train_new[0].shape[0]):\n",
        "    X_train_steps.append(X_train_new[i][j,:])\n",
        "\n",
        "print (len(X_train_steps))"
      ],
      "execution_count": null,
      "outputs": [
        {
          "output_type": "stream",
          "text": [
            "1990000\n"
          ],
          "name": "stdout"
        }
      ]
    },
    {
      "cell_type": "code",
      "metadata": {
        "colab": {
          "base_uri": "https://localhost:8080/"
        },
        "id": "j9AzsRv-Vwfw",
        "outputId": "e0b2bc90-d302-47a9-8b21-1b2ba668ebdb"
      },
      "source": [
        "X_test_new=[]\n",
        "\n",
        "for j in range(1,200):\n",
        "\n",
        "  \n",
        "  x5=X_pred_test[j-1,:]\n",
        "  x_test_temp=np.concatenate((x5,X_pred_test[j,:]))\n",
        "  X_test_new.append(x_test_temp)\n",
        "\n",
        "\n",
        "X_test_new=np.array(X_test_new)\n",
        "X_test_new.shape"
      ],
      "execution_count": null,
      "outputs": [
        {
          "output_type": "execute_result",
          "data": {
            "text/plain": [
              "(199, 128)"
            ]
          },
          "metadata": {
            "tags": []
          },
          "execution_count": 24
        }
      ]
    },
    {
      "cell_type": "code",
      "metadata": {
        "colab": {
          "base_uri": "https://localhost:8080/"
        },
        "id": "W8h29qXCIJ0B",
        "outputId": "ecfb9f3e-ef53-4bb0-ee6e-686fffccafbe"
      },
      "source": [
        "X_train_steps[0].shape"
      ],
      "execution_count": null,
      "outputs": [
        {
          "output_type": "execute_result",
          "data": {
            "text/plain": [
              "(128,)"
            ]
          },
          "metadata": {
            "tags": []
          },
          "execution_count": 17
        }
      ]
    },
    {
      "cell_type": "code",
      "metadata": {
        "id": "KpBYhsypIObY"
      },
      "source": [
        "X_train_steps=np.array(X_train_steps)"
      ],
      "execution_count": null,
      "outputs": []
    },
    {
      "cell_type": "code",
      "metadata": {
        "colab": {
          "base_uri": "https://localhost:8080/"
        },
        "id": "eQqd8PgnN4g6",
        "outputId": "38df0ecd-fbac-40ab-eee3-cf8a6b3de088"
      },
      "source": [
        "X_train_steps.shape"
      ],
      "execution_count": null,
      "outputs": [
        {
          "output_type": "execute_result",
          "data": {
            "text/plain": [
              "(1990000, 128)"
            ]
          },
          "metadata": {
            "tags": []
          },
          "execution_count": 19
        }
      ]
    },
    {
      "cell_type": "code",
      "metadata": {
        "colab": {
          "base_uri": "https://localhost:8080/"
        },
        "id": "02sL6rDvOGs3",
        "outputId": "914def6b-588e-4f8b-b8c9-43b49f9dd517"
      },
      "source": [
        "pred_train_steps=pred_train[:,1:,:]\n",
        "pred_train_steps.shape\n",
        "pred_train_steps=pred_train_steps.reshape(-1,1)\n",
        "pred_train_steps.shape"
      ],
      "execution_count": null,
      "outputs": [
        {
          "output_type": "execute_result",
          "data": {
            "text/plain": [
              "(1990000, 1)"
            ]
          },
          "metadata": {
            "tags": []
          },
          "execution_count": 20
        }
      ]
    },
    {
      "cell_type": "code",
      "metadata": {
        "colab": {
          "base_uri": "https://localhost:8080/"
        },
        "id": "Su8b-MK6N_KW",
        "outputId": "aca64a26-837c-4e37-f1f8-2053a083f93b"
      },
      "source": [
        "prey_train_steps=prey_train[:,1:,:]\n",
        "prey_train_steps.shape"
      ],
      "execution_count": null,
      "outputs": [
        {
          "output_type": "execute_result",
          "data": {
            "text/plain": [
              "(10000, 199, 1)"
            ]
          },
          "metadata": {
            "tags": []
          },
          "execution_count": 21
        }
      ]
    },
    {
      "cell_type": "code",
      "metadata": {
        "id": "D_ex1ZCq4rm5"
      },
      "source": [
        "Xtest,predtest,preytest=genData(min_a=1,min_b=0.5,min_c=0.5,min_d=0.075,min_pdi=5,min_pyi=5,const_a=True,const_b=True,const_c=True,const_d=True,const_pyi=True,const_pdi=True,num_systems=1)"
      ],
      "execution_count": null,
      "outputs": []
    },
    {
      "cell_type": "code",
      "metadata": {
        "id": "rng6t87FSo0U"
      },
      "source": [
        ""
      ],
      "execution_count": null,
      "outputs": []
    },
    {
      "cell_type": "code",
      "metadata": {
        "colab": {
          "base_uri": "https://localhost:8080/"
        },
        "id": "n0qNtj7ywCiX",
        "outputId": "005b4591-bca7-4ad0-ed17-d6f8b3a8a264"
      },
      "source": [
        "modelpredtest_temp=model_pred.predict(Xpred_test_start)\n",
        "print (modelpredtest_temp.shape)\n",
        "modelpredtest_temp=modelpredtest_temp.reshape((modelpredtest_temp.shape[1],1))\n",
        "modelpredtest_temp.shape"
      ],
      "execution_count": null,
      "outputs": [
        {
          "output_type": "stream",
          "text": [
            "(1, 1, 1)\n"
          ],
          "name": "stdout"
        },
        {
          "output_type": "execute_result",
          "data": {
            "text/plain": [
              "(1, 1)"
            ]
          },
          "metadata": {
            "tags": []
          },
          "execution_count": 75
        }
      ]
    },
    {
      "cell_type": "code",
      "metadata": {
        "colab": {
          "base_uri": "https://localhost:8080/"
        },
        "id": "eiIedoxDxHZY",
        "outputId": "285b0680-afaa-424f-a881-c15f705cb135"
      },
      "source": [
        "cos_pred=np.cos(modelpredtest_temp)\n",
        "sin_pred=np.sin(modelpredtest_temp)\n",
        "ln_pred=np.log(modelpredtest_temp)\n",
        "tanh_pred=np.tanh(modelpredtest_temp)\n",
        "pred_inv=1/modelpredtest_temp\n",
        "sqrt_pred=np.sqrt(modelpredtest_temp)\n",
        "e_minuspred=np.exp(-modelpredtest_temp)\n",
        "\n",
        "fn_pred=np.concatenate((modelpredtest_temp,cos_pred,sin_pred,ln_pred,tanh_pred,pred_inv,sqrt_pred,e_minuspred),axis=1)\n",
        "fn_pred=np.expand_dims(fn_pred,axis=0)\n",
        "print (fn_pred.shape)\n",
        "print(Xprey_test_start.shape)"
      ],
      "execution_count": null,
      "outputs": [
        {
          "output_type": "stream",
          "text": [
            "(1, 1, 8)\n",
            "(1, 1, 64)\n"
          ],
          "name": "stdout"
        },
        {
          "output_type": "execute_result",
          "data": {
            "text/plain": [
              "array([[0.        , 0.        , 0.        , ..., 0.44559765, 0.25093803,\n",
              "        0.09934956],\n",
              "       [0.        , 0.        , 0.        , ..., 0.61190454, 0.14900273,\n",
              "        0.27650637],\n",
              "       [0.        , 0.        , 0.        , ..., 0.77041834, 0.07737285,\n",
              "        0.52924469],\n",
              "       ...,\n",
              "       [0.        , 0.        , 0.        , ..., 0.32115871, 0.3572927 ,\n",
              "        0.03013923],\n",
              "       [0.        , 0.        , 0.        , ..., 0.47711432, 0.22876986,\n",
              "        0.12536288],\n",
              "       [0.        , 0.        , 0.        , ..., 0.64379198, 0.1329859 ,\n",
              "        0.32131491]])"
            ]
          },
          "metadata": {
            "tags": []
          },
          "execution_count": 106
        }
      ]
    },
    {
      "cell_type": "code",
      "metadata": {
        "colab": {
          "base_uri": "https://localhost:8080/"
        },
        "id": "45Mzfm3Z6sty",
        "outputId": "2e0ab0c3-aec3-46f5-95b9-b5b02cee980f"
      },
      "source": [
        "np.expand_dims(X_prey_test_precomputed[:,1,:],axis=1).shape"
      ],
      "execution_count": null,
      "outputs": [
        {
          "output_type": "execute_result",
          "data": {
            "text/plain": [
              "(1, 1, 56)"
            ]
          },
          "metadata": {
            "tags": []
          },
          "execution_count": 100
        }
      ]
    },
    {
      "cell_type": "code",
      "metadata": {
        "id": "G9PJtA7p5qcn"
      },
      "source": [
        "Xprey_test_temp=np.concatenate((np.expand_dims(X_prey_test_precomputed[:,1,:],axis=1),fn_pred),axis=2)"
      ],
      "execution_count": null,
      "outputs": []
    },
    {
      "cell_type": "code",
      "metadata": {
        "id": "IPytPeNK33Ts"
      },
      "source": [
        "X_prey_test_temp=np.concatenate((Xprey_test_start,Xprey_test_temp),axis=1)"
      ],
      "execution_count": null,
      "outputs": []
    },
    {
      "cell_type": "code",
      "metadata": {
        "colab": {
          "base_uri": "https://localhost:8080/"
        },
        "id": "BJSDAnFe9Sye",
        "outputId": "4fde2985-f4e7-4e59-a762-4dd270868594"
      },
      "source": [
        "X_prey_test_temp.shape"
      ],
      "execution_count": null,
      "outputs": [
        {
          "output_type": "execute_result",
          "data": {
            "text/plain": [
              "(1, 2, 64)"
            ]
          },
          "metadata": {
            "tags": []
          },
          "execution_count": 103
        }
      ]
    },
    {
      "cell_type": "code",
      "metadata": {
        "colab": {
          "base_uri": "https://localhost:8080/"
        },
        "id": "H5pO67cS0mx0",
        "outputId": "63514352-b265-42e7-d94d-d9efa93b1f9d"
      },
      "source": [
        "predtest=predtest.reshape((len(predtest),1))\n",
        "cos_pred=np.cos(predtest)\n",
        "sin_pred=np.sin(predtest)\n",
        "ln_pred=np.log(predtest)\n",
        "tanh_pred=np.tanh(predtest)\n",
        "pred_inv=1/predtest\n",
        "sqrt_pred=np.sqrt(predtest)\n",
        "e_minuspred=np.exp(-predtest)\n",
        "\n",
        "fn_pred=np.concatenate((predtest,cos_pred,sin_pred,ln_pred,tanh_pred,pred_inv,sqrt_pred,e_minuspred),axis=1)\n",
        "print (fn_pred.shape)\n",
        "X_prey_test=np.concatenate((Xtest,fn_pred),axis=1)\n",
        "X_prey_test.shape\n",
        "\n",
        "X_pred_test=scaler.fit_transform(X_pred_test)\n",
        "X_prey_test=scaler.fit_transform(X_prey_test)\n",
        "predtest=predtest.reshape((len(predtest),1))\n",
        "preytest=preytest.reshape((len(preytest),1))\n",
        "print(predtest.shape)\n",
        "predtest=scaler.fit_transform(predtest)\n",
        "preytest=scaler.fit_transform(preytest)\n",
        "Xpred_test=X_pred_test.reshape((1,200,64))\n",
        "Xprey_test=X_prey_test.reshape((1,200,64))"
      ],
      "execution_count": null,
      "outputs": [
        {
          "output_type": "stream",
          "text": [
            "(200, 8)\n",
            "(200, 1)\n"
          ],
          "name": "stdout"
        }
      ]
    }
  ]
}